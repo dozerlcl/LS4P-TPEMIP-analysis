{
 "cells": [
  {
   "cell_type": "code",
   "execution_count": null,
   "metadata": {},
   "outputs": [],
   "source": [
    "import numpy as np\n",
    "import matplotlib.pyplot as plt\n",
    "import xarray as xr\n",
    "import pandas as pd"
   ]
  },
  {
   "cell_type": "markdown",
   "metadata": {},
   "source": [
    "# 分析经纬度格点上的各RCM输出结果\n",
    "2021.12.14\n",
    "\n",
    "用原始的还在添加的平均态绘制脚本，进行新添加模式的绘制\n",
    "\n",
    "2021.12.20\n",
    "\n",
    "添加到 CN05.1 mask后的数组上，只绘制中国区域；对边界ticks labels、色板、subplot进行调整，不再绘制空地图\n",
    "\n",
    "**pre t2m 放置在同一个ipynb文件之中**"
   ]
  },
  {
   "cell_type": "markdown",
   "metadata": {},
   "source": [
    "# PART1: DAILY PRECIPITATION"
   ]
  },
  {
   "cell_type": "markdown",
   "metadata": {},
   "source": [
    "## 数据读入\n",
    "\n",
    "目标处理：1991-2015年数据"
   ]
  },
  {
   "cell_type": "code",
   "execution_count": null,
   "metadata": {},
   "outputs": [],
   "source": [
    "path_in = \"/raid61/LS4P-TPEMIP/TEMP_DATA/precip_mask/\"\n",
    "ds_in = {}\n",
    "dir_obs_in =\"/raid61/LS4P-TPEMIP/REFERENCE/CN05.1/\"\n",
    "ds_in['obs'] = xr.open_dataset(dir_obs_in + \"sel_CN05.1_Pre_1961_2018_daily_025x025.nc\").rename({\"pre\":\"pr\"})\n",
    "# ds_in[''] = xr.open_dataset(path_in + \"\")\n",
    "ds_in['CWRF'] = xr.open_dataset(path_in + \"CWRF_pre.nc\") # 缺少逐日数据，只有多种尺度的平均态数据\n",
    "ds_in['JAMSTECWRF'] = xr.open_dataset(path_in + \"JAMSTECWRF_pre.nc\") # 缺少4月\n",
    "ds_in['NJU_LS4P_B'] = xr.open_dataset(path_in + \"NJU_LS4P_B_pre.nc\")\n",
    "ds_in['NJU_LS4P_C'] = xr.open_dataset(path_in + \"NJU_LS4P_C_pre.nc\")\n",
    "ds_in['NJU_Output-E'] = xr.open_dataset(path_in + \"NJU_Output-E_pre.nc\") # 缺少2015年\n",
    "ds_in['SYS'] = xr.open_dataset(path_in + \"SYS_pre.nc\")\n",
    "ds_in['Yang-ZhouX'] = xr.open_dataset(path_in + \"Yang-ZhouX_pre.nc\")\n",
    "ds_in['YSU'] = xr.open_dataset(path_in + \"YSU_pre.nc\")"
   ]
  },
  {
   "cell_type": "code",
   "execution_count": null,
   "metadata": {},
   "outputs": [],
   "source": [
    "# 稍微处理一下变量名，用于后续的处理\n",
    "for single_mod in ds_in:\n",
    "    print(single_mod)\n",
    "    list_vars = list(ds_in[single_mod].variables)\n",
    "    print(list_vars)\n",
    "#     print(ds_in[single_mod].coords)\n",
    "    if ('Time' in list_vars):\n",
    "        print('----- rename Time>>>time')\n",
    "        ds_in[single_mod] = ds_in[single_mod].rename({\"Time\":\"time\"})\n",
    "    if ('pr' not in list_vars):\n",
    "        print('------ rename ???pre???>>>pr')\n",
    "        ds_in[single_mod] = ds_in[single_mod].rename({\"dailypre\":\"pr\"})\n",
    "    if (ds_in[single_mod].time.shape[0] !=3825):\n",
    "        print(\"**********time error in \" + single_mod + \" !\" + \" time length:\" + str(ds_in[single_mod].time.shape[0]) )"
   ]
  },
  {
   "cell_type": "markdown",
   "metadata": {},
   "source": [
    "## 平均态计算"
   ]
  },
  {
   "cell_type": "code",
   "execution_count": null,
   "metadata": {},
   "outputs": [],
   "source": [
    "var_am = {}\n",
    "var_jja= {}\n",
    "for single_mod in ds_in:\n",
    "    var_am[single_mod] = ds_in[single_mod] .sel(time = ds_in[single_mod].time.dt.month.isin([4,5])).mean('time') \n",
    "    var_jja[single_mod] = ds_in[single_mod] .sel(time = ds_in[single_mod].time.dt.month.isin([6,7,8])).mean('time')"
   ]
  },
  {
   "cell_type": "markdown",
   "metadata": {},
   "source": [
    "## 绘制部分"
   ]
  },
  {
   "cell_type": "code",
   "execution_count": null,
   "metadata": {},
   "outputs": [],
   "source": [
    "import matplotlib.colors as mcolors\n",
    "cmap_data = [(1.0, 1.0, 1.0),\n",
    "             (0.3137255012989044, 0.8156862854957581, 0.8156862854957581),\n",
    "             (0.0, 1.0, 1.0),\n",
    "             (0.0, 0.8784313797950745, 0.501960813999176),\n",
    "             (0.0, 0.7529411911964417, 0.0),\n",
    "             (0.501960813999176, 0.8784313797950745, 0.0),\n",
    "             (1.0, 1.0, 0.0),\n",
    "             (1.0, 0.6274510025978088, 0.0),\n",
    "             (1.0, 0.0, 0.0),\n",
    "             (1.0, 0.125490203499794, 0.501960813999176),\n",
    "             (0.9411764740943909, 0.250980406999588, 1.0),\n",
    "             (0.501960813999176, 0.125490203499794, 1.0),\n",
    "             (0.250980406999588, 0.250980406999588, 1.0),\n",
    "             (0.125490203499794, 0.125490203499794, 0.501960813999176),\n",
    "             (0.125490203499794, 0.125490203499794, 0.125490203499794),\n",
    "             (0.501960813999176, 0.501960813999176, 0.501960813999176),\n",
    "             (0.8784313797950745, 0.8784313797950745, 0.8784313797950745),\n",
    "             (0.9333333373069763, 0.8313725590705872, 0.7372549176216125),\n",
    "             (0.8549019694328308, 0.6509804129600525, 0.47058823704719543),\n",
    "             (0.6274510025978088, 0.42352941632270813, 0.23529411852359772),\n",
    "             (0.4000000059604645, 0.20000000298023224, 0.0)]\n",
    "ticks = np.arange(0,20,.5)\n",
    "cmap = mcolors.ListedColormap(cmap_data, 'precipitation')\n",
    "norm = mcolors.BoundaryNorm(ticks, cmap.N)\n",
    "\n",
    "# 这个色板很适合降水，是NCL colortable中的 cmap_rmse = cmaps.MPL_s3pcpn_l"
   ]
  },
  {
   "cell_type": "code",
   "execution_count": null,
   "metadata": {},
   "outputs": [],
   "source": [
    "# 国内政区图的绘制\n",
    "# Load the border data, CN-border-La.dat is download from\n",
    "# https://gmt-china.org/data/CN-border-La.dat\n",
    "import cartopy.crs as ccrs\n",
    "import cartopy.io.shapereader as shpreader\n",
    "import cartopy.crs as ccrs\n",
    "import cartopy.feature as cfeature\n",
    "import matplotlib.patches as mpatches\n",
    "import cmaps\n",
    "from cartopy.mpl.ticker import LongitudeFormatter, LatitudeFormatter"
   ]
  },
  {
   "cell_type": "code",
   "execution_count": null,
   "metadata": {},
   "outputs": [],
   "source": [
    "# import proplot as plot\n",
    "from matplotlib import pyplot as plt\n",
    "import proplot as plot\n",
    "# ----- get filter vars coords-----\n",
    "\n",
    "# ticks = np.arange(0,22,1.)\n",
    "#----- create plot -----\n",
    "# fig, axs = plot.subplots(ncols=5, nrows=4, proj=('cyl') ) \n",
    "shape_array = [[1,2,3,4,5,],[0,6,7,8,9],[10,11,12,13,14],[0,15,16,17,18]]\n",
    "fig, axs = plot.subplots(shape_array, proj=('cyl') )\n",
    "\n",
    "#----- 添加海洋以及行政区划 -----\n",
    "##---- 直接绘图，从边界文件添加\n",
    "turn_on_border = True\n",
    "if(turn_on_border):\n",
    "    ##---- 使用shp文件添加\n",
    "        ## shapefile数据下载的位置：\n",
    "    coast_shapefile = \"/home/yycheng/playground/shapefiles/gshhg-shp/GSHHS_shp/l/GSHHS_l_L1.shp\"\n",
    "    ninelines_shapefile     = \"/home/yycheng/playground/shapefiles/SouthSea/\" + \"nine_lines.shp\"\n",
    "    ## 来源： 沛沛的诸省 + 诸岛\n",
    "#     bou24p_shapefile     = \"/m2data2/yycheng/data_stage/CN-border/peipeihelp/\" + \"bou2_4p.shp\"\n",
    "    ## 来源： https://www.resdc.cn/data.aspx?DATAID=200\n",
    "    province_shapefile     = \"/home/yycheng/playground/shapefiles/CN-sheng/\" + \"change_proj_CN-sheng-A.shp\"\n",
    "\n",
    "    for ax in axs:\n",
    "        coast = shpreader.Reader(coast_shapefile).geometries()\n",
    "        # world     = shpreader.Reader(world_border_shapefile).geometries()\n",
    "        # river     = shpreader.Reader(river_border_shapefile).geometries()\n",
    "#         river     = shpreader.Reader(river_border_shapefile, encoding = 'gbk')\n",
    "        # bou24p    = shpreader.Reader(bou24p_shapefile).geometries()\n",
    "        ninelines = shpreader.Reader(ninelines_shapefile).geometries()\n",
    "        province  = shpreader.Reader(province_shapefile).geometries()\n",
    "        ax.add_geometries(coast, ccrs.PlateCarree(), facecolor=\"none\", edgecolor = 'k', linewidth=0.4, zorder=1 )\n",
    "        # ax.add_geometries(world, ccrs.PlateCarree(), facecolor='none', edgecolor='k', linewidth=0.4, zorder=1)\n",
    "        # ax.add_geometries(bou24p, ccrs.PlateCarree(), facecolor='none', edgecolor='k', linewidth=0.6, zorder=1) # 沛沛map\n",
    "        ax.add_geometries(province, ccrs.PlateCarree(), facecolor='none', edgecolor='k', linewidth=0.6, zorder=1) # 地资所\n",
    "        ax.add_geometries(ninelines, ccrs.PlateCarree(), facecolor='none', edgecolor='k', linewidth=0.6, zorder=1)\n",
    "        # ax.add_geometries(river, ccrs.PlateCarree(), facecolor='none', edgecolor='b', linewidth=0.4, zorder=1)\n",
    "        # 绘制部分的shapefile\n",
    "#         for region in river.records():\n",
    "#             if (region.attributes['NAME'] in ['黄河','长江']):\n",
    "#                 # print(\"----- draw river! -----\")\n",
    "#                 # 此处需要使用 [] 让region.geometry可以迭代\n",
    "#                 ax.add_geometries([region.geometry], ccrs.PlateCarree(), facecolor='none', edgecolor='b', linewidth=0.6, zorder=1)\n",
    "\n",
    "axs[0:1,0].format(ltitle = \"AM\")\n",
    "axs[2:3,0].format(ltitle = \"JJA\")\n",
    "\n",
    "for ind,single_mod in enumerate(var_am):\n",
    "        m_overlay = axs[ind].contourf(var_am[single_mod].lon.values, var_am[single_mod].lat.values, var_am[single_mod]['pr'].values, levels=ticks, cmap=cmap)\n",
    "        axs[ind].format(ltitle = 'AM',title = single_mod)\n",
    "for ind,single_mod in enumerate(var_jja):\n",
    "        m_overlay = axs[ind+9].contourf(var_jja[single_mod].lon.values, var_jja[single_mod].lat.values, var_jja[single_mod]['pr'].values, levels=ticks, cmap=cmap)\n",
    "        axs[ind+9].format(ltitle = 'JJA',title = single_mod)\n",
    "fig.colorbar(m_overlay, loc='b', cmap=cmap, width=0.1, ticklabelsize=5,ticks=ticks[::2])\n",
    "\n",
    "axs[0].format(title = 'CN05.1')\n",
    "axs[9].format(title = 'CN05.1')\n",
    "# ---------format作为整个proplot集中对属性进行修改的method---------\n",
    "axs.format(\n",
    "abc=True,\n",
    "abcloc = 'ul',\n",
    "#----- 地图底图设置 -----\n",
    "# reso = 'x-hi',\n",
    "reso = 'med',\n",
    "# coast = False,\n",
    "coast = False,\n",
    "coastlinewidth = 0.4,\n",
    "borders = False,\n",
    "lakes = False,\n",
    "land  = False,\n",
    "ocean = False,\n",
    "#-----GEO axis-----\n",
    "lonlim=(70, 140), latlim=(15, 55),\n",
    "labels = False, # 后续自己手动添加带线条的\n",
    "gridlabelsize = 5,\n",
    "gridminor = True,\n",
    "lonlocator = np.arange(70,150,10),\n",
    "latlocator = np.arange(15,55,10),\n",
    "lonminorlocator = np.arange(70,140+2,2),\n",
    "latminorlocator = np.arange(15,55+2,2),\n",
    "longrid  = True,\n",
    "latgrid  = True,\n",
    "suptitle=\"precipitation [mm/d]\",\n",
    ")\n",
    "for ax_ind in axs:\n",
    "    ax_ind.set_xticks( plot.arange(70,140,10) ,crs=ccrs.PlateCarree()) # set longitude indicators\n",
    "    ax_ind.set_yticks( plot.arange(15,55,10) , crs=ccrs.PlateCarree())\n",
    "    lon_formatter = LongitudeFormatter(zero_direction_label=True,number_format='.0f')#,degree_symbol='')\n",
    "    lat_formatter = LatitudeFormatter(number_format='.0f')#,degree_symbol='')\n",
    "    ax_ind.xaxis.set_major_formatter(lon_formatter)\n",
    "    ax_ind.yaxis.set_major_formatter(lat_formatter)\n",
    "    \n",
    "    ax_ind.tick_params(which='minor',direction='inout',length=4,width=1., top = False, right = False, labelsize = 7.)\n",
    "    ax_ind.tick_params(which='major',direction='out', length=6, width=1.5 , colors='k', top = False, right = False, labelsize = 7.)\n",
    "\n",
    "fig.patch.set_facecolor('white')\n",
    "# fig.savefig('./output_pic/precip_spatial_mask_12.20.png', dpi=600, facecolor= \"white\")"
   ]
  },
  {
   "cell_type": "code",
   "execution_count": null,
   "metadata": {},
   "outputs": [],
   "source": [
    "fig.savefig('./output_pic/precip_spatial_mask_12.20.png', dpi=600, facecolor= \"white\")"
   ]
  },
  {
   "cell_type": "markdown",
   "metadata": {},
   "source": [
    "# PART2: DAILY MEAN surface air temperature"
   ]
  },
  {
   "cell_type": "markdown",
   "metadata": {},
   "source": [
    "## 数据读入\n",
    "\n",
    "目标处理：1991-2015年数据"
   ]
  },
  {
   "cell_type": "code",
   "execution_count": null,
   "metadata": {},
   "outputs": [],
   "source": [
    "path_in = \"/raid61/LS4P-TPEMIP/TEMP_DATA/t2m_mask/\"\n",
    "ds_in = {}\n",
    "dir_obs_in =\"/raid61/LS4P-TPEMIP/REFERENCE/CN05.1/\"\n",
    "ds_in['obs'] = xr.open_dataset(dir_obs_in + \"sel_CN05.1_Tm_1961_2018_daily_025x025.nc\").rename({'tm':'t2m'})\n",
    "# ds_in[''] = xr.open_dataset(path_in + \"\")\n",
    "ds_in['CWRF'] = xr.open_dataset(path_in + \"CWRF_t2m.nc\") # 缺少逐日数据，只有多种尺度的平均态数据\n",
    "ds_in['JAMSTECWRF'] = xr.open_dataset(path_in + \"JAMSTECWRF_t2m.nc\") # 缺少4月\n",
    "ds_in['NJU_LS4P_B'] = xr.open_dataset(path_in + \"NJU_LS4P_B_t2m.nc\")\n",
    "ds_in['NJU_LS4P_C'] = xr.open_dataset(path_in + \"NJU_LS4P_C_t2m.nc\")\n",
    "ds_in['NJU_Output-E'] = xr.open_dataset(path_in + \"NJU_Output-E_t2m.nc\") # 缺少2015年\n",
    "ds_in['SYS'] = xr.open_dataset(path_in + \"SYS_t2m.nc\")\n",
    "ds_in['Yang-ZhouX'] = xr.open_dataset(path_in + \"Yang-ZhouX_t2m.nc\")\n",
    "ds_in['YSU'] = xr.open_dataset(path_in + \"YSU_t2m.nc\")"
   ]
  },
  {
   "cell_type": "code",
   "execution_count": null,
   "metadata": {},
   "outputs": [],
   "source": [
    "# 稍微处理一下变量名，用于后续的处理\n",
    "for single_mod in ds_in:\n",
    "    print(single_mod)\n",
    "    list_vars = list(ds_in[single_mod].variables)\n",
    "    print(list_vars)\n",
    "#     print(ds_in[single_mod].coords)\n",
    "    if ('Time' in list_vars):\n",
    "        print('----- rename Time>>>time')\n",
    "        ds_in[single_mod] = ds_in[single_mod].rename({\"Time\":\"time\"})\n",
    "#     if (ds_in[single_mod].time.shape[0] !=3825):\n",
    "#         print(\"**********time error in \" + single_mod + \" !\" + \" time length:\" + str(ds_in[single_mod].time.shape[0]) )"
   ]
  },
  {
   "cell_type": "markdown",
   "metadata": {},
   "source": [
    "## 平均态计算"
   ]
  },
  {
   "cell_type": "code",
   "execution_count": null,
   "metadata": {},
   "outputs": [],
   "source": [
    "var_am = {}\n",
    "var_jja= {}\n",
    "for single_mod in ds_in:\n",
    "    var_am[single_mod] = ds_in[single_mod]['t2m'].sel(time = ds_in[single_mod].time.dt.month.isin([4,5])).mean('time') \n",
    "    var_jja[single_mod] = ds_in[single_mod]['t2m'].sel(time = ds_in[single_mod].time.dt.month.isin([6,7,8])).mean('time')"
   ]
  },
  {
   "cell_type": "code",
   "execution_count": null,
   "metadata": {},
   "outputs": [],
   "source": [
    "for single_mod in ds_in:\n",
    "    if(var_am[single_mod].max() > 200.):\n",
    "        print(\"no!\" + single_mod)\n",
    "        var_am[single_mod] = var_am[single_mod] - 273.15\n",
    "        var_jja[single_mod] = var_jja[single_mod] - 273.15"
   ]
  },
  {
   "cell_type": "markdown",
   "metadata": {},
   "source": [
    "## 绘制部分"
   ]
  },
  {
   "cell_type": "code",
   "execution_count": null,
   "metadata": {},
   "outputs": [],
   "source": [
    "import matplotlib.colors as mcolors\n",
    "ticks = np.arange(-6,32,1)\n",
    "# cmap=cmaps.GMT_wysiwygcont\n",
    "cmap_diff = cmaps.cmp_flux \n",
    "diff_ticks = np.concatenate( ([-6],plot.arange(-4, 4, 0.25),[6]), axis = 0 )"
   ]
  },
  {
   "cell_type": "code",
   "execution_count": null,
   "metadata": {},
   "outputs": [],
   "source": [
    "# 国内政区图的绘制\n",
    "# Load the border data, CN-border-La.dat is download from\n",
    "# https://gmt-china.org/data/CN-border-La.dat\n",
    "import cartopy.crs as ccrs\n",
    "import cartopy.io.shapereader as shpreader\n",
    "import cartopy.crs as ccrs\n",
    "import cartopy.feature as cfeature\n",
    "import matplotlib.patches as mpatches\n",
    "import cmaps\n",
    "from cartopy.mpl.ticker import LongitudeFormatter, LatitudeFormatter"
   ]
  },
  {
   "cell_type": "code",
   "execution_count": null,
   "metadata": {},
   "outputs": [],
   "source": [
    "# import proplot as plot\n",
    "from matplotlib import pyplot as plt\n",
    "import proplot as plot\n",
    "# ----- get filter vars coords-----\n",
    "\n",
    "# ticks = np.arange(0,22,1.)\n",
    "#----- create plot -----\n",
    "# fig, axs = plot.subplots(ncols=5, nrows=4, proj=('cyl') ) \n",
    "shape_array = [[1,2,3,4,5,],[0,6,7,8,9],[10,11,12,13,14],[0,15,16,17,18]]\n",
    "fig, axs = plot.subplots(shape_array, proj=('cyl') )\n",
    "\n",
    "#----- 添加海洋以及行政区划 -----\n",
    "##---- 直接绘图，从边界文件添加\n",
    "turn_on_border = True\n",
    "if(turn_on_border):\n",
    "    ##---- 使用shp文件添加\n",
    "        ## shapefile数据下载的位置：\n",
    "    coast_shapefile = \"/home/yycheng/playground/shapefiles/gshhg-shp/GSHHS_shp/l/GSHHS_l_L1.shp\"\n",
    "    ninelines_shapefile     = \"/home/yycheng/playground/shapefiles/SouthSea/\" + \"nine_lines.shp\"\n",
    "    ## 来源： 沛沛的诸省 + 诸岛\n",
    "#     bou24p_shapefile     = \"/m2data2/yycheng/data_stage/CN-border/peipeihelp/\" + \"bou2_4p.shp\"\n",
    "    ## 来源： https://www.resdc.cn/data.aspx?DATAID=200\n",
    "    province_shapefile     = \"/home/yycheng/playground/shapefiles/CN-sheng/\" + \"change_proj_CN-sheng-A.shp\"\n",
    "\n",
    "    for ax in axs:\n",
    "        coast = shpreader.Reader(coast_shapefile).geometries()\n",
    "        # world     = shpreader.Reader(world_border_shapefile).geometries()\n",
    "        # river     = shpreader.Reader(river_border_shapefile).geometries()\n",
    "#         river     = shpreader.Reader(river_border_shapefile, encoding = 'gbk')\n",
    "        # bou24p    = shpreader.Reader(bou24p_shapefile).geometries()\n",
    "        ninelines = shpreader.Reader(ninelines_shapefile).geometries()\n",
    "        province  = shpreader.Reader(province_shapefile).geometries()\n",
    "        ax.add_geometries(coast, ccrs.PlateCarree(), facecolor=\"none\", edgecolor = 'k', linewidth=0.4, zorder=1 )\n",
    "        # ax.add_geometries(world, ccrs.PlateCarree(), facecolor='none', edgecolor='k', linewidth=0.4, zorder=1)\n",
    "        # ax.add_geometries(bou24p, ccrs.PlateCarree(), facecolor='none', edgecolor='k', linewidth=0.6, zorder=1) # 沛沛map\n",
    "        ax.add_geometries(province, ccrs.PlateCarree(), facecolor='none', edgecolor='k', linewidth=0.6, zorder=1) # 地资所\n",
    "        ax.add_geometries(ninelines, ccrs.PlateCarree(), facecolor='none', edgecolor='k', linewidth=0.6, zorder=1)\n",
    "        # ax.add_geometries(river, ccrs.PlateCarree(), facecolor='none', edgecolor='b', linewidth=0.4, zorder=1)\n",
    "        # 绘制部分的shapefile\n",
    "#         for region in river.records():\n",
    "#             if (region.attributes['NAME'] in ['黄河','长江']):\n",
    "#                 # print(\"----- draw river! -----\")\n",
    "#                 # 此处需要使用 [] 让region.geometry可以迭代\n",
    "#                 ax.add_geometries([region.geometry], ccrs.PlateCarree(), facecolor='none', edgecolor='b', linewidth=0.6, zorder=1)\n",
    "\n",
    "axs[0:1,0].format(ltitle = \"AM\")\n",
    "axs[2:3,0].format(ltitle = \"JJA\")\n",
    "\n",
    "for ind,single_mod in enumerate(var_am):\n",
    "        if (single_mod == 'obs'):\n",
    "            m_overlay = axs[ind].contourf(var_am[single_mod].lon.values, var_am[single_mod].lat.values, var_am[single_mod].values, levels=ticks, cmap=cmap)\n",
    "        if (single_mod != 'obs'):\n",
    "            m_diff = axs[ind].contourf(var_am[single_mod].lon.values, var_am[single_mod].lat.values, var_am[single_mod].values - var_am['obs'].values\\\n",
    "                                       , levels=diff_ticks, cmap=cmap_diff, norm = \"midpoint\")\n",
    "        axs[ind].format(ltitle = 'AM',title = single_mod)\n",
    "        \n",
    "for ind,single_mod in enumerate(var_jja):\n",
    "#         m_overlay = axs[ind+9].contourf(var_jja[single_mod].lon.values, var_jja[single_mod].lat.values, var_jja[single_mod].values, levels=ticks, cmap=cmap)\n",
    "        if (single_mod == 'obs'):\n",
    "            m_overlay = axs[ind+9].contourf(var_jja[single_mod].lon.values, var_jja[single_mod].lat.values, var_jja[single_mod].values, levels=ticks, cmap=cmap)\n",
    "        if (single_mod != 'obs'):\n",
    "            m_diff = axs[ind+9].contourf(var_jja[single_mod].lon.values, var_jja[single_mod].lat.values, var_jja[single_mod].values - var_jja['obs'].values\\\n",
    "                                       , levels=diff_ticks, cmap=cmap_diff, norm = \"midpoint\")\n",
    "        axs[ind+9].format(ltitle = 'JJA',title = single_mod)\n",
    "\n",
    "fig.colorbar(m_overlay, loc='b', cmap=cmap, width=0.1, ticklabelsize=5,ticks=ticks[::2] ,title='temperature[' + r'$^\\circ C$' +']')\n",
    "fig.colorbar(m_diff, loc='b', cmap=cmap_diff, width=0.1, ticklabelsize=5,ticks=diff_ticks[:] ,title='temperature bias[' + r'$^\\circ C$' +']')\n",
    "\n",
    "axs[0].format(title = 'CN05.1')\n",
    "axs[9].format(title = 'CN05.1')\n",
    "# ---------format作为整个proplot集中对属性进行修改的method---------\n",
    "axs.format(\n",
    "abc=True,\n",
    "abcloc = 'ul',\n",
    "#----- 地图底图设置 -----\n",
    "# reso = 'x-hi',\n",
    "reso = 'med',\n",
    "# coast = False,\n",
    "coast = False,\n",
    "coastlinewidth = 0.4,\n",
    "borders = False,\n",
    "lakes = False,\n",
    "land  = False,\n",
    "ocean = False,\n",
    "#-----GEO axis-----\n",
    "lonlim=(70, 140), latlim=(15, 55),\n",
    "labels = False, # 后续自己手动添加带线条的\n",
    "gridlabelsize = 5,\n",
    "gridminor = True,\n",
    "lonlocator = np.arange(70,150,10),\n",
    "latlocator = np.arange(15,55,10),\n",
    "lonminorlocator = np.arange(70,140+2,2),\n",
    "latminorlocator = np.arange(15,55+2,2),\n",
    "longrid  = True,\n",
    "latgrid  = True,\n",
    "suptitle=\"surface air temperature [\" +r\"$^\\circ C$\"+ \"]\",\n",
    ")\n",
    "for ax_ind in axs:\n",
    "    ax_ind.set_xticks( plot.arange(70,140,10) ,crs=ccrs.PlateCarree()) # set longitude indicators\n",
    "    ax_ind.set_yticks( plot.arange(15,55,10) , crs=ccrs.PlateCarree())\n",
    "    lon_formatter = LongitudeFormatter(zero_direction_label=True,number_format='.0f')#,degree_symbol='')\n",
    "    lat_formatter = LatitudeFormatter(number_format='.0f')#,degree_symbol='')\n",
    "    ax_ind.xaxis.set_major_formatter(lon_formatter)\n",
    "    ax_ind.yaxis.set_major_formatter(lat_formatter)\n",
    "    \n",
    "    ax_ind.tick_params(which='minor',direction='inout',length=4,width=1., top = False, right = False, labelsize = 7.)\n",
    "    ax_ind.tick_params(which='major',direction='out', length=6, width=1.5 , colors='k', top = False, right = False, labelsize = 7.)\n",
    "\n",
    "fig.patch.set_facecolor('white')\n",
    "# fig.savefig('./output_pic/precip_spatial_mask_12.20.png', dpi=600, facecolor= \"white\")"
   ]
  },
  {
   "cell_type": "code",
   "execution_count": null,
   "metadata": {},
   "outputs": [],
   "source": [
    "fig.savefig('./output_pic/t2m_spatial_mask_12.20.png', dpi=600, facecolor= \"white\")"
   ]
  }
 ],
 "metadata": {
  "kernelspec": {
   "display_name": "proplot1006",
   "language": "python",
   "name": "proplot1006"
  },
  "language_info": {
   "codemirror_mode": {
    "name": "ipython",
    "version": 3
   },
   "file_extension": ".py",
   "mimetype": "text/x-python",
   "name": "python",
   "nbconvert_exporter": "python",
   "pygments_lexer": "ipython3",
   "version": "3.8.2"
  }
 },
 "nbformat": 4,
 "nbformat_minor": 4
}
