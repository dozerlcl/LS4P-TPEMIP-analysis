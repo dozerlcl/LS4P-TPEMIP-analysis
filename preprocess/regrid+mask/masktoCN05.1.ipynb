{
 "cells": [
  {
   "cell_type": "code",
   "execution_count": 1,
   "metadata": {},
   "outputs": [],
   "source": [
    "import numpy as np\n",
    "import matplotlib.pyplot as plt\n",
    "import xarray as xr\n",
    "import pandas as pd"
   ]
  },
  {
   "cell_type": "markdown",
   "metadata": {},
   "source": [
    "# 进行模式输出插值之后的mask操作，到CN05.1的中国区域\n",
    "2021.12.20\n",
    "\n",
    "降水和气温放在同一个文件中，只是变量名的不同\n",
    "\n",
    "插值后 lat lon 的格点数目全部一致。Time因为原始数据问题有一些不同\n",
    "\n",
    "MASK数组取一个2D的 lat x lon数组，np.where自动进行时间维度上的广播"
   ]
  },
  {
   "cell_type": "markdown",
   "metadata": {},
   "source": [
    "# 降水处理 数据读入\n",
    "\n",
    "目标处理：1991-2015年数据"
   ]
  },
  {
   "cell_type": "code",
   "execution_count": 2,
   "metadata": {},
   "outputs": [
    {
     "name": "stderr",
     "output_type": "stream",
     "text": [
      "/home/yycheng/miniconda3/envs/proplot1006/lib/python3.8/site-packages/xarray/coding/times.py:117: SerializationWarning: Ambiguous reference date string: 1-01-01 00:00:00. The first value is assumed to be the year hence will be padded with zeros to remove the ambiguity (the padded reference date string is: 0001-01-01 00:00:00). To remove this message, remove the ambiguity by padding your reference date strings with zeros.\n",
      "  warnings.warn(warning_msg, SerializationWarning)\n"
     ]
    }
   ],
   "source": [
    "path_in = \"/raid61/LS4P-TPEMIP/TEMP_DATA/precip_regrid/\"\n",
    "ds_in = {}\n",
    "dir_in =\"/raid61/LS4P-TPEMIP/REFERENCE/CN05.1/\"\n",
    "ds_in['obs'] = xr.open_dataset(dir_in + \"sel_CN05.1_Pre_1961_2018_daily_025x025.nc\").rename({\"pre\":\"pr\"})\n",
    "# ds_in[''] = xr.open_dataset(path_in + \"\")\n",
    "ds_in['CWRF'] = xr.open_dataset(path_in + \"CWRF_pre.nc\") # 缺少逐日数据，只有多种尺度的平均态数据\n",
    "ds_in['JAMSTECWRF'] = xr.open_dataset(path_in + \"JAMSTECWRF_pre.nc\") # 缺少4月\n",
    "ds_in['NJU_LS4P_B'] = xr.open_dataset(path_in + \"NJU_LS4P_B_pre.nc\")\n",
    "ds_in['NJU_LS4P_C'] = xr.open_dataset(path_in + \"NJU_LS4P_C_pre.nc\")\n",
    "ds_in['NJU_Output-E'] = xr.open_dataset(path_in + \"NJU_Output-E_pre.nc\") # 缺少2015年\n",
    "ds_in['SYS'] = xr.open_dataset(path_in + \"SYS_pre.nc\")\n",
    "ds_in['Yang-ZhouX'] = xr.open_dataset(path_in + \"Yang-ZhouX_pre.nc\")\n",
    "ds_in['YSU'] = xr.open_dataset(path_in + \"YSU_pre.nc\")"
   ]
  },
  {
   "cell_type": "code",
   "execution_count": 6,
   "metadata": {},
   "outputs": [
    {
     "name": "stdout",
     "output_type": "stream",
     "text": [
      "obs\n",
      "['time', 'lon', 'lat', 'pr']\n",
      "CWRF\n",
      "['lon', 'lat', 'time', 'pr']\n",
      "**********time error in CWRF ! time length:12\n",
      "JAMSTECWRF\n",
      "['lon', 'lat', 'time', 'pr']\n",
      "**********time error in JAMSTECWRF ! time length:3075\n",
      "NJU_LS4P_B\n",
      "['lon', 'lat', 'time', 'pr']\n",
      "NJU_LS4P_C\n",
      "['lon', 'lat', 'time', 'pr']\n",
      "NJU_Output-E\n",
      "['lon', 'lat', 'time', 'pr']\n",
      "SYS\n",
      "['lon', 'lat', 'Time', 'dailypre']\n",
      "----- rename Time>>>time\n",
      "------ rename ???pre???>>>pr\n",
      "Yang-ZhouX\n",
      "['lon', 'lat', 'Time', 'dailypre']\n",
      "----- rename Time>>>time\n",
      "------ rename ???pre???>>>pr\n",
      "YSU\n",
      "['lon', 'lat', 'time', 'pr']\n"
     ]
    }
   ],
   "source": [
    "# 稍微处理一下变量名，用于后续的处理\n",
    "for single_mod in ds_in:\n",
    "    print(single_mod)\n",
    "    list_vars = list(ds_in[single_mod].variables)\n",
    "    print(list_vars)\n",
    "#     print(ds_in[single_mod].coords)\n",
    "    if ('Time' in list_vars):\n",
    "        print('----- rename Time>>>time')\n",
    "        ds_in[single_mod] = ds_in[single_mod].rename({\"Time\":\"time\"})\n",
    "    if ('pr' not in list_vars):\n",
    "        print('------ rename ???pre???>>>pr')\n",
    "        ds_in[single_mod] = ds_in[single_mod].rename({\"dailypre\":\"pr\"})\n",
    "    if (ds_in[single_mod].time.shape[0] !=3825):\n",
    "        print(\"**********time error in \" + single_mod + \" !\" + \" time length:\" + str(ds_in[single_mod].time.shape[0]) )"
   ]
  },
  {
   "cell_type": "markdown",
   "metadata": {},
   "source": [
    "## MASK操作，以及数据写出"
   ]
  },
  {
   "cell_type": "code",
   "execution_count": 71,
   "metadata": {},
   "outputs": [
    {
     "name": "stdout",
     "output_type": "stream",
     "text": [
      "-----dealing mask on : CWRF\n",
      "-----dealing mask on : JAMSTECWRF\n",
      "-----dealing mask on : NJU_LS4P_B\n",
      "-----dealing mask on : NJU_LS4P_C\n",
      "-----dealing mask on : NJU_Output-E\n",
      "-----dealing mask on : SYS\n",
      "-----dealing mask on : Yang-ZhouX\n",
      "-----dealing mask on : YSU\n"
     ]
    }
   ],
   "source": [
    "mask_temp2d = ~np.isnan( ds_in['obs']['pr'][0,:,:].values.copy() )\n",
    "for single_mod in ds_in:\n",
    "    if (single_mod == 'obs'):\n",
    "        continue\n",
    "    print(\"-----dealing mask on : \" + single_mod)\n",
    "    path_out = \"/raid61/LS4P-TPEMIP/TEMP_DATA/precip_mask/\"\n",
    "    mask_target = ds_in[single_mod].copy()\n",
    "    mask_result_temp = xr.where(mask_temp2d, mask_target, np.nan)\n",
    "    mask_result_temp.to_netcdf(path_out + single_mod + \"_pre.nc\")\n",
    "    mask_result_temp.close()\n",
    "    del(mask_result_temp)"
   ]
  },
  {
   "cell_type": "markdown",
   "metadata": {},
   "source": [
    "# 气温处理 数据读入\n",
    "\n",
    "目标处理：1991-2015年数据\n",
    "\n",
    "为了改变量名方便处理为了DataArray"
   ]
  },
  {
   "cell_type": "code",
   "execution_count": 6,
   "metadata": {},
   "outputs": [
    {
     "name": "stderr",
     "output_type": "stream",
     "text": [
      "/home/yycheng/miniconda3/envs/proplot1006/lib/python3.8/site-packages/xarray/coding/times.py:117: SerializationWarning: Ambiguous reference date string: 1-01-01 00:00:00. The first value is assumed to be the year hence will be padded with zeros to remove the ambiguity (the padded reference date string is: 0001-01-01 00:00:00). To remove this message, remove the ambiguity by padding your reference date strings with zeros.\n",
      "  warnings.warn(warning_msg, SerializationWarning)\n"
     ]
    }
   ],
   "source": [
    "path_in = \"/raid61/LS4P-TPEMIP/TEMP_DATA/t2m_regrid/\"\n",
    "ds_in = {}\n",
    "dir_in =\"/raid61/LS4P-TPEMIP/REFERENCE/CN05.1/\"\n",
    "ds_in['obs'] = xr.open_dataset(dir_in + \"sel_CN05.1_Tm_1961_2018_daily_025x025.nc\")['tm'].rename(\"t2m\")\n",
    "# ds_in[''] = xr.open_dataset(path_in + \"\")\n",
    "ds_in['CWRF'] = xr.open_dataset(path_in + \"CWRF_t2m.nc\")['t2m'] # 缺少逐日数据，只有多种尺度的平均态数据\n",
    "ds_in['JAMSTECWRF'] = xr.open_dataset(path_in + \"JAMSTECWRF_t2m.nc\")['t2m'] # 缺少4月\n",
    "ds_in['NJU_LS4P_B'] = xr.open_dataset(path_in + \"NJU_LS4P_B_t2m.nc\")['tas'][:,0,:,:].rename(\"t2m\")\n",
    "ds_in['NJU_LS4P_C'] = xr.open_dataset(path_in + \"NJU_LS4P_C_t2m.nc\")['tas'][:,0,:,:].rename(\"t2m\")\n",
    "ds_in['NJU_Output-E'] = xr.open_dataset(path_in + \"NJU_Output-E_t2m.nc\")['tas'][:,0,:,:].rename(\"t2m\") # 缺少2015年\n",
    "ds_in['SYS'] = xr.open_dataset(path_in + \"SYS_t2m.nc\")['T2'].rename(\"t2m\")\n",
    "ds_in['Yang-ZhouX'] = xr.open_dataset(path_in + \"Yang-ZhouX_t2m.nc\")['T2'].rename(\"t2m\")\n",
    "ds_in['YSU'] = xr.open_dataset(path_in + \"YSU_t2m.nc\")['t2m']"
   ]
  },
  {
   "cell_type": "code",
   "execution_count": 8,
   "metadata": {},
   "outputs": [
    {
     "name": "stdout",
     "output_type": "stream",
     "text": [
      "obs\n",
      "['time', 'lon', 'lat']\n",
      "CWRF\n",
      "['lon', 'lat', 'time']\n",
      "JAMSTECWRF\n",
      "['lon', 'lat', 'time']\n",
      "NJU_LS4P_B\n",
      "['lon', 'lat', 'm2', 'time']\n",
      "NJU_LS4P_C\n",
      "['lon', 'lat', 'm2', 'time']\n",
      "NJU_Output-E\n",
      "['lon', 'lat', 'm2', 'time']\n",
      "SYS\n",
      "['lon', 'lat', 'time']\n",
      "Yang-ZhouX\n",
      "['lon', 'lat', 'time']\n",
      "YSU\n",
      "['lon', 'lat', 'time']\n"
     ]
    }
   ],
   "source": [
    "# 稍微处理一下变量名，用于后续的处理\n",
    "for single_mod in ds_in:\n",
    "    print(single_mod)\n",
    "    list_vars = list(ds_in[single_mod].coords)\n",
    "    print(list_vars)\n",
    "#     print(ds_in[single_mod].variables)\n",
    "#     print(ds_in[single_mod].coords)\n",
    "    if ('Time' in list_vars):\n",
    "        print('----- rename Time>>>time')\n",
    "        ds_in[single_mod] = ds_in[single_mod].rename({\"Time\":\"time\"})\n",
    "#     if (ds_in[single_mod].time.shape[0] !=3825):\n",
    "#         print(\"**********time error in \" + single_mod + \" !\" + \" time length:\" + str(ds_in[single_mod].time.shape[0]) )"
   ]
  },
  {
   "cell_type": "markdown",
   "metadata": {},
   "source": [
    "## MASK操作，以及数据写出"
   ]
  },
  {
   "cell_type": "code",
   "execution_count": 14,
   "metadata": {},
   "outputs": [
    {
     "name": "stdout",
     "output_type": "stream",
     "text": [
      "-----dealing mask on : CWRF\n",
      "-----dealing mask on : JAMSTECWRF\n"
     ]
    },
    {
     "name": "stderr",
     "output_type": "stream",
     "text": [
      "/home/yycheng/miniconda3/envs/proplot1006/lib/python3.8/site-packages/xarray/coding/times.py:117: SerializationWarning: Ambiguous reference date string: 1-01-01 00:00:00. The first value is assumed to be the year hence will be padded with zeros to remove the ambiguity (the padded reference date string is: 0001-01-01 00:00:00). To remove this message, remove the ambiguity by padding your reference date strings with zeros.\n",
      "  warnings.warn(warning_msg, SerializationWarning)\n"
     ]
    },
    {
     "name": "stdout",
     "output_type": "stream",
     "text": [
      "-----dealing mask on : NJU_LS4P_B\n",
      "-----dealing mask on : NJU_LS4P_C\n",
      "-----dealing mask on : NJU_Output-E\n",
      "-----dealing mask on : SYS\n",
      "-----dealing mask on : Yang-ZhouX\n",
      "-----dealing mask on : YSU\n"
     ]
    }
   ],
   "source": [
    "mask_temp2d = ~np.isnan( ds_in['obs'][0,:,:].values.copy() )\n",
    "for single_mod in ds_in:\n",
    "    if (single_mod == 'obs'):\n",
    "        continue\n",
    "    print(\"-----dealing mask on : \" + single_mod)\n",
    "    path_out = \"/raid61/LS4P-TPEMIP/TEMP_DATA/t2m_mask/\"\n",
    "    mask_target = ds_in[single_mod].copy()\n",
    "    mask_result_temp = xr.where(mask_temp2d, mask_target, np.nan)\n",
    "    mask_result_temp.to_netcdf(path_out + single_mod + \"_t2m.nc\")\n",
    "    mask_result_temp.close()\n",
    "    del(mask_result_temp)"
   ]
  }
 ],
 "metadata": {
  "kernelspec": {
   "display_name": "proplot1006",
   "language": "python",
   "name": "proplot1006"
  },
  "language_info": {
   "codemirror_mode": {
    "name": "ipython",
    "version": 3
   },
   "file_extension": ".py",
   "mimetype": "text/x-python",
   "name": "python",
   "nbconvert_exporter": "python",
   "pygments_lexer": "ipython3",
   "version": "3.8.2"
  }
 },
 "nbformat": 4,
 "nbformat_minor": 4
}
