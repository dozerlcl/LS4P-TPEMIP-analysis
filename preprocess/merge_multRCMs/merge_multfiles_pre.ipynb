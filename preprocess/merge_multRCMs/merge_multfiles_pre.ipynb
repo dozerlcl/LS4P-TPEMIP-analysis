{
 "cells": [
  {
   "cell_type": "code",
   "execution_count": 1,
   "metadata": {},
   "outputs": [],
   "source": [
    "import numpy as np\n",
    "import matplotlib.pyplot as plt\n",
    "import xarray as xr\n",
    "import pandas as pd\n",
    "import glob"
   ]
  },
  {
   "cell_type": "markdown",
   "metadata": {},
   "source": [
    "# 读取LS4P中的部分RCM数据进行时间合并，用于后续分析\n",
    "2021.10.03\n",
    "\n",
    "处理时间范围：1991-2015 4-8月\n",
    "\n",
    "特别的处理remark：\n",
    "- NJU 直接使用mfdataset打开，选取时间段之后输出\n",
    "- SYS 将所有变量逐日放在单独的文件，需要先处理出中间文件（只含pre的逐日文件），再进行合并，同时需要将累计降水处理为日降水\n",
    "- YSU 日降水已经处理好，但是时次有问题，多出了三个时次，需要进行筛除\n",
    "- JAMSTEC_WRF 缺少4月，需要将 mm/hr 转化为 mm/day ； 可以用月平均态替代\n",
    "- CWRF 只有月平均态、每日平均态（day of year），并且时间范围更长，暂时只使用月平均态\n"
   ]
  },
  {
   "cell_type": "markdown",
   "metadata": {},
   "source": [
    "## NJU LS4P_B\n",
    "单位为 kg*m^-2*s^-1 需要转换到mm/d 乘以86400"
   ]
  },
  {
   "cell_type": "code",
   "execution_count": null,
   "metadata": {},
   "outputs": [],
   "source": [
    "# read mult NC files to select specfic var\n",
    "NJU_path         = \"/raid61/LS4P-TPEMIP/TPEMIP-NJU/\"\n",
    "multfiles_names  = glob.glob(NJU_path + \"LS4P_B*/LS4P_STS*.nc\")\n",
    "xr_multfiles     = xr.open_mfdataset(multfiles_names, parallel = True)\n",
    "pr_nju           = xr_multfiles['pr']*86400 #更改单位 mm\n",
    "select_dict      = {} # 选定合适年月\n",
    "time_year        = (pr_nju.time.dt.year >= 1991) # 时次相对较长，一开始使用1998年一年进行尝试\n",
    "time_month       = (pr_nju.time.dt.month.isin([4,5,6,7,8])) # 时次相对较长，一开始使用1998年一年进行尝试\n",
    "select_time      = (time_year & time_month)\n",
    "select_dict['time'] = select_time\n",
    "# wrtie dask nc files to single files\n",
    "path_out         = \"/raid61/LS4P-TPEMIP/TEMP_DATA/precip/\"\n",
    "pr_nju.sel(select_dict).to_netcdf(path_out + \"NJU_LS4P_B_pre.nc\")"
   ]
  },
  {
   "cell_type": "markdown",
   "metadata": {},
   "source": [
    "## NJU LS4P_C\n",
    "单位为 kg*m^-2*s^-1 需要转换到mm/d 乘以86400"
   ]
  },
  {
   "cell_type": "code",
   "execution_count": null,
   "metadata": {},
   "outputs": [],
   "source": [
    "# read mult NC files to select specfic var\n",
    "NJU_path         = \"/raid61/LS4P-TPEMIP/TPEMIP-NJU/\"\n",
    "multfiles_names  = glob.glob(NJU_path + \"LS4P_C*/LS4P_STS*.nc\")\n",
    "xr_multfiles     = xr.open_mfdataset(multfiles_names, parallel = True)\n",
    "pr_nju           = xr_multfiles['pr']*86400 #更改单位 mm\n",
    "select_dict      = {} # 选定合适年月\n",
    "time_year        = (pr_nju.time.dt.year >= 1991) # 时次相对较长，一开始使用1998年一年进行尝试\n",
    "time_month       = (pr_nju.time.dt.month.isin([4,5,6,7,8])) # 时次相对较长，一开始使用1998年一年进行尝试\n",
    "select_time      = (time_year & time_month)\n",
    "select_dict['time'] = select_time\n",
    "# wrtie dask nc files to single files\n",
    "path_out         = \"/raid61/LS4P-TPEMIP/TEMP_DATA/precip/\"\n",
    "pr_nju.sel(select_dict).to_netcdf(path_out + \"NJU_LS4P_C_pre.nc\")"
   ]
  },
  {
   "cell_type": "markdown",
   "metadata": {},
   "source": [
    "## NJU OUTPUT-E\n",
    "- remark： 1991-2014 年， 缺少2015年\n",
    "- 12.15 补上2015年"
   ]
  },
  {
   "cell_type": "code",
   "execution_count": 2,
   "metadata": {},
   "outputs": [],
   "source": [
    "# read mult NC files to select specfic var\n",
    "NJU_path         = \"/raid61/LS4P-TPEMIP/TPEMIP-NJU/\"\n",
    "multfiles_names  = glob.glob(NJU_path + \"Output-E-*/LS4P_STS*.nc\")\n",
    "xr_multfiles     = xr.open_mfdataset(multfiles_names, parallel = True)\n",
    "pr_nju           = xr_multfiles['pr']*86400 #更改单位 mm\n",
    "select_dict      = {} # 选定合适年月\n",
    "time_year        = (pr_nju.time.dt.year >= 1991) # 时次相对较长，一开始使用1998年一年进行尝试\n",
    "time_month       = (pr_nju.time.dt.month.isin([4,5,6,7,8])) # 时次相对较长，一开始使用1998年一年进行尝试\n",
    "select_time      = (time_year & time_month)\n",
    "select_dict['time'] = select_time\n",
    "# wrtie dask nc files to single files\n",
    "path_out         = \"/raid61/LS4P-TPEMIP/TEMP_DATA/precip/\"\n",
    "pr_nju.sel(select_dict).to_netcdf(path_out + \"NJU_Output-E_pre.nc\")"
   ]
  },
  {
   "cell_type": "markdown",
   "metadata": {},
   "source": [
    "## SYS\n",
    "wrf后处理，需要将累计降水处理为逐日的降水"
   ]
  },
  {
   "cell_type": "markdown",
   "metadata": {},
   "source": [
    "### 提取变量的中间文件处理部分\n",
    "因为SYS文件相对较大（6hr间隔）因此预先处理出一个同目录下的文件夹中的中间文件，并用之后再计算逐日的情况\n",
    "\n",
    "需要将不同的文件进行并发操作，加快dask的写出部分"
   ]
  },
  {
   "cell_type": "code",
   "execution_count": 19,
   "metadata": {},
   "outputs": [],
   "source": [
    "# read mult NC files to select specfic var\n",
    "# sys文件太大，先使用cdo处理出来一批临时文件，再将临时文件进行合并\n",
    "import os\n",
    "out_path                   = \"/raid61/LS4P-TPEMIP/TEMP_DATA/precip/sys_tempfiles/\"  # 存放sys的临时文件\n",
    "os.system(\"mkdir -p \" + out_path)\n",
    "files_in_list = []\n",
    "files_out_list = []\n",
    "for single_year in range(1991, 2016):\n",
    "    SYS_path                  = \"/raid61/LS4P-TPEMIP/LS4P_TPEMIP_RCM/WRF4.2.1/wrfout-\" + str(single_year) + \"/\"\n",
    "    multfiles_names       = glob.glob(SYS_path + \"LS4P_WRF4.2.1_TPEMIP_Phase1_6hr_*.nc\")\n",
    "    files_in_list.append(multfiles_names)\n",
    "    files_out_list.append(out_path + str(single_year) + \".nc\")\n",
    "\n",
    "def write_temp_nc(files_in, files_out):\n",
    "    print(\"----- dealing \" + files_out)\n",
    "    ds_temp                   = xr.open_mfdataset(files_in[:], combine  = \"nested\", concat_dim = \"Time\")[['RAINC','RAINNC','RAINSH']]\n",
    "    ds_temp.to_netcdf(files_out)"
   ]
  },
  {
   "cell_type": "markdown",
   "metadata": {},
   "source": [
    "配合mfdataset，并发进行写数据环节，效果还行，将4mins一个文件的速度提升到了2mins一个"
   ]
  },
  {
   "cell_type": "code",
   "execution_count": null,
   "metadata": {},
   "outputs": [],
   "source": [
    "from multiprocessing import Pool\n",
    "import os, time, random\n",
    "print('Parent process %s.' % os.getpid())\n",
    "p = Pool(4)\n",
    "for i in range(len(files_in_list)):\n",
    "    p.apply_async(write_temp_nc, args=( (files_in_list[i], files_out_list[i]) ) )\n",
    "print('Waiting for all subprocesses done...')\n",
    "p.close()\n",
    "p.join()\n",
    "print('All subprocesses done.')"
   ]
  },
  {
   "cell_type": "markdown",
   "metadata": {},
   "source": [
    "### 逐日数据的计算部分\n",
    "将WRF中的RAINC RAINNC RAINSH三个变量进行累加，之后计算到日平均，再将累计降水计算为每一天的增量；增量的时间放置在前一个时次"
   ]
  },
  {
   "cell_type": "code",
   "execution_count": null,
   "metadata": {},
   "outputs": [],
   "source": [
    "from os.path import basename\n",
    "# 整理降水数据\n",
    "for single_file in files_out_list:\n",
    "    ds_wrf_sys= xr.open_dataset( single_file )\n",
    "    # 做差计算每6小时的降水\n",
    "    mod_pre = {}\n",
    "    testb = ds_wrf_sys['RAINC'][1:,:,:].assign_coords({\"XTIME\":ds_wrf_sys['RAINC'][0:-1,:,:].XTIME})\n",
    "    testa = ds_wrf_sys['RAINC'][0:-1,:,:]\n",
    "    mod_pre['RAINC'] = testb - testa\n",
    "    testb = ds_wrf_sys['RAINNC'][1:,:,:].assign_coords({\"XTIME\":ds_wrf_sys['RAINNC'][0:-1,:,:].XTIME})\n",
    "    testa = ds_wrf_sys['RAINNC'][0:-1,:,:]\n",
    "    mod_pre['RAINNC'] = testb - testa\n",
    "    testb = ds_wrf_sys['RAINSH'][1:,:,:].assign_coords({\"XTIME\":ds_wrf_sys['RAINSH'][0:-1,:,:].XTIME})\n",
    "    testa = ds_wrf_sys['RAINSH'][0:-1,:,:]\n",
    "    mod_pre['RAINSH'] = testb - testa\n",
    "    mod_pre['pre'] = mod_pre['RAINC'] + mod_pre['RAINNC'] + mod_pre['RAINSH'] # 六小时间隔总降水\n",
    "    \n",
    "    # count daily mean precip\n",
    "    # 原本的时间坐标 XTIME daily_xtime 和XTIME一样大，但是进行了daily的group\n",
    "    daily_xtime = mod_pre['pre'].XTIME.dt.strftime(\"%Y-%m-%d\")\n",
    "    mod_pre['dailypre'] = mod_pre['pre'].groupby(daily_xtime).mean(\"Time\") * 4 # 六小时降水处理为24小时的累计降水\n",
    "    # change dataarry name\n",
    "    mod_pre['dailypre'].name='dailypre'\n",
    "    # 从原来group使用的srftime修改为正确的cf格式的时间 到daily_xtime_pd 并创建稳数组XTIME，以便后续作为坐标变量\n",
    "    daily_xtime_pd = pd.to_datetime(mod_pre['dailypre'].strftime.values)\n",
    "    XTIME_daily    = xr.DataArray(daily_xtime_pd, name='Time',dims='Time')\n",
    "    # 修改坐标变量\n",
    "    mod_pre['dailypre'] = mod_pre['dailypre'].rename({\"strftime\":\"Time\"}).assign_coords( {\"Time\":XTIME_daily} )\n",
    "    \n",
    "    # 2D LAT LON 的坐标变量居然没有正确复制，先进行一下时间平均的操作，再assign\n",
    "    xlat    = mod_pre['pre'].XLAT.groupby(daily_xtime).mean(\"Time\").rename({\"strftime\":\"Time\"}).assign_coords( {\"Time\":XTIME_daily} )\n",
    "    xlong = mod_pre['pre'].XLONG.groupby(daily_xtime).mean(\"Time\").rename({\"strftime\":\"Time\"}).assign_coords( {\"Time\":XTIME_daily} )\n",
    "    mod_pre['dailypre'] = mod_pre['dailypre'].assign_coords({\"XLAT\":xlat, \"XLONG\":xlong})\n",
    "    \n",
    "    # 输出到NC文件\n",
    "    mod_pre['dailypre'].to_netcdf(out_path +\"increment_\" +basename( single_file ),'w')"
   ]
  },
  {
   "cell_type": "markdown",
   "metadata": {},
   "source": [
    "### 合并所有降水数据到一个新dataset中\n",
    "最后坐标处理不彻底，XLAT XLONG是3D变量，但并不是时间变化的网格"
   ]
  },
  {
   "cell_type": "code",
   "execution_count": 2,
   "metadata": {},
   "outputs": [],
   "source": [
    "# 2021.12.13 需要添加XLONG XLAT的属性来识别网格，用于后续的cdo的插值\n",
    "sys_xlatlong_temp = xr.open_dataset(\"/raid61/LS4P-TPEMIP/TEMP_DATA/precip//sys_tempfiles/1991.nc\")"
   ]
  },
  {
   "cell_type": "markdown",
   "metadata": {},
   "source": [
    "需要添加 encoding['coordinates'] 来让cdo识别出坐标；在attrs中也可以添加 coordinates 但是会与encoding中添加的部分冲突；"
   ]
  },
  {
   "cell_type": "code",
   "execution_count": 3,
   "metadata": {},
   "outputs": [],
   "source": [
    "path_out         = \"/raid61/LS4P-TPEMIP/TEMP_DATA/precip/\"\n",
    "pr_sys = xr.open_mfdataset(\"/raid61/LS4P-TPEMIP/TEMP_DATA/precip/sys_tempfiles/increment_*.nc\")\n",
    "pr_sys['dailypre'].encoding['coordinates'] = 'Time XLAT XLONG'\n",
    "select_dict      = {} # 选定合适年月\n",
    "time_year        = (pr_sys.Time.dt.year >= 1991) # 时次相对较长，一开始使用1998年一年进行尝试\n",
    "time_month       = (pr_sys.Time.dt.month.isin([4,5,6,7,8])) # 时次相对较长，一开始使用1998年一年进行尝试\n",
    "select_time      = (time_year & time_month)\n",
    "select_dict['Time'] = select_time\n",
    "# # 冗长的一步，在最后输出前，先将multcoords赋值正确，避免后续维度在进行计算时丢失\n",
    "pre_temp = pr_sys.sel(select_dict)\n",
    "pre_temp = pre_temp.assign_coords({\"south_north\":pre_temp.south_north, \"west_east\":pre_temp.west_east,\"XLAT\":pre_temp.XLAT, \"XLONG\":pre_temp.XLONG})\n",
    "pre_temp.XLAT.attrs = sys_xlatlong_temp.XLAT.attrs\n",
    "pre_temp.XLONG.attrs = sys_xlatlong_temp.XLONG.attrs\n",
    "# pre_temp.to_netcdf(path_out + \"SYS_pre.nc\")"
   ]
  },
  {
   "cell_type": "code",
   "execution_count": 33,
   "metadata": {},
   "outputs": [
    {
     "data": {
      "text/plain": [
       "{'zlib': False,\n",
       " 'shuffle': False,\n",
       " 'complevel': 0,\n",
       " 'fletcher32': False,\n",
       " 'contiguous': True,\n",
       " 'chunksizes': None,\n",
       " 'source': '/raid61/LS4P-TPEMIP/TEMP_DATA/precip/sys_tempfiles/increment_1991.nc',\n",
       " 'original_shape': (160, 239, 359),\n",
       " 'dtype': dtype('float32'),\n",
       " '_FillValue': nan}"
      ]
     },
     "execution_count": 33,
     "metadata": {},
     "output_type": "execute_result"
    }
   ],
   "source": [
    "pre_temp.XLAT.encoding"
   ]
  },
  {
   "cell_type": "markdown",
   "metadata": {},
   "source": [
    "## Yang-ZhouX\n",
    "daily的rainc和rainnc已经整理好，下面直接修改时间坐标，选取时间段，之后写出"
   ]
  },
  {
   "cell_type": "markdown",
   "metadata": {},
   "source": [
    "### 读入数据\n",
    "数据来源有2,daily的RAINNC和RAINC分开存放"
   ]
  },
  {
   "cell_type": "code",
   "execution_count": null,
   "metadata": {},
   "outputs": [],
   "source": [
    "path_YZX               = \"/raid61/LS4P-TPEMIP/LS4P_Yang-ZhouX/sf/dailym&monthlym/\"\n",
    "filename_RAINC    = \"RAINC_ls4p_itpcasWRF_TPEMIP_dailym_00z0101????-00z3112????.nc\"\n",
    "filename_RAINNC = \"RAINNC_ls4p_itpcasWRF_TPEMIP_dailym_00z0101????-00z3112????.nc\"\n",
    "origin_ds = {}\n",
    "origin_ds['rainc']   = xr.open_mfdataset(path_YZX + filename_RAINC, combine  = \"nested\", concat_dim = \"XTIME\")\n",
    "origin_ds['rainnc'] = xr.open_mfdataset(path_YZX + filename_RAINNC, combine  = \"nested\", concat_dim = \"XTIME\")\n",
    "for var in origin_ds:\n",
    "    daily_xtime_pd = pd.to_datetime(origin_ds[var].XTIME.values)\n",
    "    XTIME_daily    = xr.DataArray(daily_xtime_pd, name='Time',dims='Time')\n",
    "    origin_ds[var]  = origin_ds[var].rename({\"XTIME\":\"Time\"}).assign_coords( {\"Time\":XTIME_daily} )"
   ]
  },
  {
   "cell_type": "markdown",
   "metadata": {},
   "source": [
    "### 相加计算每日的累计降水"
   ]
  },
  {
   "cell_type": "code",
   "execution_count": null,
   "metadata": {},
   "outputs": [],
   "source": [
    "total_pre = origin_ds['rainc']['RAINC'] + origin_ds['rainnc']['RAINNC']\n",
    "total_pre = total_pre.rename('dailypre')\n",
    "select_dict      = {} # 选定合适年月\n",
    "timesize = []\n",
    "# for iyear in range(1991, 2016):\n",
    "time_year        = (total_pre.Time.dt.year >= 1991) # 时次相对较长，一开始使用1998年一年进行尝试\n",
    "time_month       = (total_pre.Time.dt.month.isin([4,5,6,7,8])) # 时次相对较长，一开始使用1998年一年进行尝试\n",
    "select_time      = (time_year & time_month)\n",
    "select_dict['Time'] = select_time\n",
    "sel_yzx_temp = total_pre.sel(select_dict)"
   ]
  },
  {
   "cell_type": "markdown",
   "metadata": {},
   "source": [
    "### 去除掉多余的2009年的数据，位置在153 307 461三个时间index的位置"
   ]
  },
  {
   "cell_type": "code",
   "execution_count": null,
   "metadata": {},
   "outputs": [],
   "source": [
    "sel_time          = sel_yzx_temp.Time\n",
    "time_delete    = ( sel_time.Time.dt.year.isin([2009]) & sel_time.Time.dt.month.isin([4]) )\n",
    "delete_index   = np.argwhere(time_delete.values == True)[0:3].reshape(3)  # 153 307 461 三个records含有2009年index的数据，显然不合理\n",
    "inverse_index = np.array( [i for i in range(0,sel_time.shape[0]) if i not in delete_index] )\n",
    "sel_yzx            = sel_yzx_temp.isel(Time = inverse_index)\n",
    "path_out         = \"/raid61/LS4P-TPEMIP/TEMP_DATA/precip/\"\n",
    "sel_yzx.to_netcdf(path_out + \"Yang-ZhouX_pre.nc\")"
   ]
  },
  {
   "cell_type": "markdown",
   "metadata": {},
   "source": [
    "## YSU数据\n",
    "YSU数据添补充了经纬度坐标,提取daily数据中的pr变量，添加时间维度以及补充的latlon文件中的维度；"
   ]
  },
  {
   "cell_type": "code",
   "execution_count": 8,
   "metadata": {},
   "outputs": [],
   "source": [
    "path_in = \"/raid61/LS4P-TPEMIP/TPEMIP-YSU/????/EAPL_LS4P_????_daily_d01.nc\"\n",
    "test = xr.open_mfdataset(path_in, concat_dim = \"day\", combine = \"nested\")\n",
    "test['pr']\n",
    "xlat_xlong = xr.open_dataset(\"/raid61/LS4P-TPEMIP/TPEMIP-YSU/LS4P_YSU_EAPl_LATLON.nc\")"
   ]
  },
  {
   "cell_type": "code",
   "execution_count": 9,
   "metadata": {},
   "outputs": [],
   "source": [
    "time = pd.date_range(\"1991-01-01\",\"2015-12-31\", freq=\"D\")\n",
    "time_da = xr.DataArray(time, name = \"time\", dims = \"time\")\n",
    "correct_time_3825 = time_da.sel(time = time_da.dt.month.isin([4,5,6,7,8]))\n",
    "pr_temp = test['pr'].rename({\"day\":\"time\"}).assign_coords({\"time\":correct_time_3825})\n",
    "# 添加multdimensional coords，通过字典来进行添加\n",
    "add_coords = { \"XLONG\" : ((\"lat\",\"lon\") , xlat_xlong.XLONG[0,:,:] ), \"XLAT\" : ((\"lat\",\"lon\") , xlat_xlong.XLAT[0,:,:] ) }\n",
    "pr_temp = pr_temp.assign_coords( add_coords )"
   ]
  },
  {
   "cell_type": "code",
   "execution_count": 13,
   "metadata": {},
   "outputs": [],
   "source": [
    "# 2021.12.13 需要添加XLONG XLAT的属性来识别网格，用于后续的cdo的插值\n",
    "pr_temp.XLONG.attrs = xlat_xlong.XLONG.attrs\n",
    "pr_temp.XLAT.attrs = xlat_xlong.XLAT.attrs"
   ]
  },
  {
   "cell_type": "code",
   "execution_count": 17,
   "metadata": {},
   "outputs": [],
   "source": [
    "path_out         = \"/raid61/LS4P-TPEMIP/TEMP_DATA/precip/\"\n",
    "# pr_temp.to_netcdf(path_out + \"YSU_pre.nc\")\n",
    "pr_temp.to_netcdf(path_out + \"YSU_pre.nc\")"
   ]
  },
  {
   "cell_type": "markdown",
   "metadata": {},
   "source": [
    "## JAMSTEC_WRF数据\n",
    "缺少4月(包含5-8月)，并且不知道绘制的变量 conpre 和 mppre 是否正确\n",
    "\n",
    "已经确认：需要相加conpre mppre 以及单位是mm/hr"
   ]
  },
  {
   "cell_type": "code",
   "execution_count": 34,
   "metadata": {},
   "outputs": [],
   "source": [
    "path_in = \"/raid61/LS4P-TPEMIP/JAMSTEC_WRF_1991-2015/daily_2D/ncfile/????/conpre_JAMSTECWRF_TPEMIP_day_00z0105????-00z3108????.nc\"\n",
    "conpre = xr.open_mfdataset(path_in)['conpre']\n",
    "# conpre.mean(dim = 'time').plot.contourf(vmin = 0, vmax = 2, cmap = \"gist_ncar\")\n",
    "path_in = \"/raid61/LS4P-TPEMIP/JAMSTEC_WRF_1991-2015/daily_2D/ncfile/????/mppre_JAMSTECWRF_TPEMIP_day_00z0105????-00z3108????.nc\"\n",
    "mppre = xr.open_mfdataset(path_in)['mppre']"
   ]
  },
  {
   "cell_type": "code",
   "execution_count": 35,
   "metadata": {},
   "outputs": [],
   "source": [
    "# 合并 conpre 和mppre， 以及将 mm/hr 转换为 mm/day\n",
    "jam_pre = (conpre+mppre) * 24.\n",
    "path_out         = \"/raid61/LS4P-TPEMIP/TEMP_DATA/precip/\"\n",
    "jam_pre.rename('pr').to_netcdf(path_out + \"JAMSTECWRF_pre.nc\")"
   ]
  },
  {
   "cell_type": "markdown",
   "metadata": {},
   "source": [
    "### 检查平均态"
   ]
  },
  {
   "cell_type": "code",
   "execution_count": 18,
   "metadata": {},
   "outputs": [
    {
     "data": {
      "text/plain": [
       "<matplotlib.contour.QuadContourSet at 0x2b18703b0820>"
      ]
     },
     "execution_count": 18,
     "metadata": {},
     "output_type": "execute_result"
    },
    {
     "data": {
      "image/png": "[encoded data removed]",
      "text/plain": [
       "<Figure size 432x288 with 2 Axes>"
      ]
     },
     "metadata": {
      "needs_background": "light"
     },
     "output_type": "display_data"
    }
   ],
   "source": [
    "(mppre+conpre).mean(dim = 'time').plot.contourf(vmin = 0, vmax = 1, cmap = \"gist_ncar\")"
   ]
  },
  {
   "cell_type": "code",
   "execution_count": 139,
   "metadata": {},
   "outputs": [
    {
     "data": {
      "text/plain": [
       "<matplotlib.contour.QuadContourSet at 0x2b21a9210a30>"
      ]
     },
     "execution_count": 139,
     "metadata": {},
     "output_type": "execute_result"
    },
    {
     "data": {
      "image/png": "[encoded data removed]",
      "text/plain": [
       "<Figure size 432x288 with 2 Axes>"
      ]
     },
     "metadata": {
      "needs_background": "light"
     },
     "output_type": "display_data"
    }
   ],
   "source": [
    "temp_plot = conpre+mppre\n",
    "plot_data = temp_plot.sel(time = temp_plot.time.dt.month.isin([6,7,8])).mean(dim = 'time')\n",
    "(plot_data*24).plot.contourf(vmin = 0, vmax = 20, cmap = \"gist_ncar\")"
   ]
  },
  {
   "cell_type": "markdown",
   "metadata": {},
   "source": [
    "### 用每月数据代替"
   ]
  },
  {
   "cell_type": "code",
   "execution_count": 172,
   "metadata": {},
   "outputs": [],
   "source": [
    "monthy_conpre = xr.open_dataset(\"/raid61/LS4P-TPEMIP/JAMSTEC_WRF_1991-2015/monthy_2D/ncfile/1991/\\\n",
    "conpre_JAMSTECWRF_TPEMIP_mon_00z01051991-00z01081991.nc\",decode_times=False)\n",
    "monthy_mppre = xr.open_dataset(\"/raid61/LS4P-TPEMIP/JAMSTEC_WRF_1991-2015/monthy_2D/ncfile/1991/\\\n",
    "mppre_JAMSTECWRF_TPEMIP_mon_00z01051991-00z01081991.nc\",decode_times=False)\n",
    "\n",
    "temp_out = (24. * (monthy_conpre['conpre'] + monthy_mppre['mppre'] ) ) \n",
    "new_monthy_time = xr.DataArray( pd.date_range(\"1991-05-01\", periods = 4, freq = \"MS\"), dims = \"time\", name = \"time\")\n",
    "temp_out = temp_out.assign_coords( { \"time\" : new_monthy_time})\n",
    "path_out         = \"/raid61/LS4P-TPEMIP/TEMP_DATA/precip/\"\n",
    "temp_out = temp_out.rename(\"pr\")\n",
    "temp_out.to_netcdf(path_out + \"JAMSTECWRF_pre.nc\")"
   ]
  },
  {
   "cell_type": "markdown",
   "metadata": {},
   "source": [
    "## CWRF\n",
    "数据暂时只有平均态，找到了逐月的多年平均，但是是从1980-2016年，相比其他RCM的时段（1991-2015）更长"
   ]
  },
  {
   "cell_type": "code",
   "execution_count": 69,
   "metadata": {},
   "outputs": [],
   "source": [
    "# path_in = \"/raid61/LS4P-TPEMIP/TPEMIP-CWRF/Task1/daily/pr_LS4P_CWRF_Task1_day_00z01052003-21z30062003.nc\"\n",
    "# path_in = \"/raid61/LS4P-TPEMIP/TPEMIP-CWRF/Task2/\" + \"pr_LS4P_CWRF_Task2_jun_00z01011980-21z31122016.nc\"\n",
    "path_in = \"/raid61/LS4P-TPEMIP/TPEMIP-CWRF/Task2/\" + \"pr_LS4P_CWRF_Task2_mon_00z01011980-21z31122016.nc\"\n",
    "test  = xr.open_dataset(path_in)\n",
    "path_out         = \"/raid61/LS4P-TPEMIP/TEMP_DATA/precip/\"\n",
    "test['pr'].to_netcdf(path_out + \"CWRF_pre.nc\")"
   ]
  }
 ],
 "metadata": {
  "kernelspec": {
   "display_name": "proplot1006",
   "language": "python",
   "name": "proplot1006"
  },
  "language_info": {
   "codemirror_mode": {
    "name": "ipython",
    "version": 3
   },
   "file_extension": ".py",
   "mimetype": "text/x-python",
   "name": "python",
   "nbconvert_exporter": "python",
   "pygments_lexer": "ipython3",
   "version": "3.8.2"
  }
 },
 "nbformat": 4,
 "nbformat_minor": 4
}
