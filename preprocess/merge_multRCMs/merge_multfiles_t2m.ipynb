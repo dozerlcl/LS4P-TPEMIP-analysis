{
 "cells": [
  {
   "cell_type": "code",
   "execution_count": 1,
   "metadata": {},
   "outputs": [],
   "source": [
    "import numpy as np\n",
    "import matplotlib.pyplot as plt\n",
    "import xarray as xr\n",
    "import pandas as pd\n",
    "import glob"
   ]
  },
  {
   "cell_type": "markdown",
   "metadata": {},
   "source": [
    "# 读取LS4P中的部分数据进行合并，用于后续绘图\n",
    "\n",
    "2021.10.05\n"
   ]
  },
  {
   "cell_type": "markdown",
   "metadata": {},
   "source": [
    "## NJU LS4P_B"
   ]
  },
  {
   "cell_type": "code",
   "execution_count": null,
   "metadata": {},
   "outputs": [],
   "source": [
    "# read mult NC files to select specfic var\n",
    "NJU_path         = \"/raid61/LS4P-TPEMIP/TPEMIP-NJU/\"\n",
    "multfiles_names  = glob.glob(NJU_path + \"LS4P_B*/LS4P_STS*.nc\")\n",
    "xr_multfiles     = xr.open_mfdataset(multfiles_names, parallel = True)\n",
    "pr_nju           = xr_multfiles['tas']\n",
    "select_dict      = {} # 选定合适年月\n",
    "time_year        = (pr_nju.time.dt.year >= 1991) # 时次相对较长，一开始使用1998年一年进行尝试\n",
    "time_month       = (pr_nju.time.dt.month.isin([4,5,6,7,8])) # 时次相对较长，一开始使用1998年一年进行尝试\n",
    "select_time      = (time_year & time_month)\n",
    "select_dict['time'] = select_time\n",
    "# wrtie dask nc files to single files\n",
    "path_out         = \"/raid61/LS4P-TPEMIP/TEMP_DATA/t2m/\"\n",
    "pr_nju.sel(select_dict).to_netcdf(path_out + \"NJU_LS4P_B_t2m.nc\")"
   ]
  },
  {
   "cell_type": "markdown",
   "metadata": {},
   "source": [
    "## NJU LS4P_C"
   ]
  },
  {
   "cell_type": "code",
   "execution_count": null,
   "metadata": {},
   "outputs": [],
   "source": [
    "# read mult NC files to select specfic var\n",
    "NJU_path         = \"/raid61/LS4P-TPEMIP/TPEMIP-NJU/\"\n",
    "multfiles_names  = glob.glob(NJU_path + \"LS4P_C*/LS4P_STS*.nc\")\n",
    "xr_multfiles     = xr.open_mfdataset(multfiles_names, parallel = True)\n",
    "pr_nju           = xr_multfiles['tas']\n",
    "select_dict      = {} # 选定合适年月\n",
    "time_year        = (pr_nju.time.dt.year >= 1991) # 时次相对较长，一开始使用1998年一年进行尝试\n",
    "time_month       = (pr_nju.time.dt.month.isin([4,5,6,7,8])) # 时次相对较长，一开始使用1998年一年进行尝试\n",
    "select_time      = (time_year & time_month)\n",
    "select_dict['time'] = select_time\n",
    "# wrtie dask nc files to single files\n",
    "path_out         = \"/raid61/LS4P-TPEMIP/TEMP_DATA/t2m/\"\n",
    "pr_nju.sel(select_dict).to_netcdf(path_out + \"NJU_LS4P_C_t2m.nc\")"
   ]
  },
  {
   "cell_type": "markdown",
   "metadata": {},
   "source": [
    "## NJU Output-E\n",
    "- remark： 1991-2014 年， 缺少2015年"
   ]
  },
  {
   "cell_type": "code",
   "execution_count": 2,
   "metadata": {},
   "outputs": [],
   "source": [
    "# read mult NC files to select specfic var\n",
    "NJU_path         = \"/raid61/LS4P-TPEMIP/TPEMIP-NJU/\"\n",
    "multfiles_names  = glob.glob(NJU_path + \"Output-E*/LS4P_STS*.nc\")\n",
    "xr_multfiles     = xr.open_mfdataset(multfiles_names, parallel = True)\n",
    "pr_nju           = xr_multfiles['tas']\n",
    "select_dict      = {} # 选定合适年月\n",
    "time_year        = (pr_nju.time.dt.year >= 1991) # 时次相对较长，一开始使用1998年一年进行尝试\n",
    "time_month       = (pr_nju.time.dt.month.isin([4,5,6,7,8])) # 时次相对较长，一开始使用1998年一年进行尝试\n",
    "select_time      = (time_year & time_month)\n",
    "select_dict['time'] = select_time\n",
    "# wrtie dask nc files to single files\n",
    "path_out         = \"/raid61/LS4P-TPEMIP/TEMP_DATA/t2m/\"\n",
    "pr_nju.sel(select_dict).to_netcdf(path_out + \"NJU_Output-E_t2m.nc\")"
   ]
  },
  {
   "cell_type": "markdown",
   "metadata": {},
   "source": [
    "## SYS\n",
    "wrf后处理，需要将累计降水处理为逐日的降水"
   ]
  },
  {
   "cell_type": "markdown",
   "metadata": {},
   "source": [
    "### 从每个wrf文件之中读取需要的变量"
   ]
  },
  {
   "cell_type": "code",
   "execution_count": 2,
   "metadata": {},
   "outputs": [],
   "source": [
    "# read mult NC files to select specfic var\n",
    "# sys文件太大，先使用cdo处理出来一批临时文件，再将临时文件进行合并\n",
    "import os\n",
    "out_path                   = \"/raid61/LS4P-TPEMIP/TEMP_DATA/t2m/sys_tempfiles/\"  # 存放sys的临时文件\n",
    "os.system(\"mkdir -p \" + out_path)\n",
    "files_in_list = []\n",
    "files_out_list = []\n",
    "for single_year in range(1991, 2016):\n",
    "    SYS_path                  = \"/raid61/LS4P-TPEMIP/LS4P_TPEMIP_RCM/WRF4.2.1/wrfout-\" + str(single_year) + \"/\"\n",
    "    multfiles_names       = glob.glob(SYS_path + \"LS4P_WRF4.2.1_TPEMIP_Phase1_6hr_*.nc\")\n",
    "    files_in_list.append(multfiles_names)\n",
    "    files_out_list.append(out_path + str(single_year) + \".nc\")\n",
    "\n",
    "def write_temp_nc(files_in, files_out):\n",
    "    print(\"----- dealing \" + files_out)\n",
    "    ds_temp                   = xr.open_mfdataset(files_in[:], combine  = \"nested\", concat_dim = \"Time\")['T2']\n",
    "    ds_temp.to_netcdf(files_out)"
   ]
  },
  {
   "cell_type": "code",
   "execution_count": 3,
   "metadata": {},
   "outputs": [
    {
     "name": "stdout",
     "output_type": "stream",
     "text": [
      "Parent process 23691.\n",
      "----- dealing /raid61/LS4P-TPEMIP/TEMP_DATA/t2m/sys_tempfiles/1992.nc\n",
      "----- dealing /raid61/LS4P-TPEMIP/TEMP_DATA/t2m/sys_tempfiles/1991.nc\n",
      "----- dealing /raid61/LS4P-TPEMIP/TEMP_DATA/t2m/sys_tempfiles/1993.nc\n",
      "----- dealing /raid61/LS4P-TPEMIP/TEMP_DATA/t2m/sys_tempfiles/1994.nc\n",
      "Waiting for all subprocesses done...\n",
      "----- dealing /raid61/LS4P-TPEMIP/TEMP_DATA/t2m/sys_tempfiles/1995.nc\n",
      "----- dealing /raid61/LS4P-TPEMIP/TEMP_DATA/t2m/sys_tempfiles/1996.nc\n",
      "----- dealing /raid61/LS4P-TPEMIP/TEMP_DATA/t2m/sys_tempfiles/1997.nc\n",
      "----- dealing /raid61/LS4P-TPEMIP/TEMP_DATA/t2m/sys_tempfiles/1998.nc\n",
      "----- dealing /raid61/LS4P-TPEMIP/TEMP_DATA/t2m/sys_tempfiles/1999.nc\n",
      "----- dealing /raid61/LS4P-TPEMIP/TEMP_DATA/t2m/sys_tempfiles/2000.nc\n",
      "----- dealing /raid61/LS4P-TPEMIP/TEMP_DATA/t2m/sys_tempfiles/2001.nc\n",
      "----- dealing /raid61/LS4P-TPEMIP/TEMP_DATA/t2m/sys_tempfiles/2002.nc\n",
      "----- dealing /raid61/LS4P-TPEMIP/TEMP_DATA/t2m/sys_tempfiles/2003.nc\n",
      "----- dealing /raid61/LS4P-TPEMIP/TEMP_DATA/t2m/sys_tempfiles/2004.nc\n",
      "----- dealing /raid61/LS4P-TPEMIP/TEMP_DATA/t2m/sys_tempfiles/2005.nc\n",
      "----- dealing /raid61/LS4P-TPEMIP/TEMP_DATA/t2m/sys_tempfiles/2006.nc\n",
      "----- dealing /raid61/LS4P-TPEMIP/TEMP_DATA/t2m/sys_tempfiles/2007.nc\n",
      "----- dealing /raid61/LS4P-TPEMIP/TEMP_DATA/t2m/sys_tempfiles/2008.nc\n",
      "----- dealing /raid61/LS4P-TPEMIP/TEMP_DATA/t2m/sys_tempfiles/2009.nc\n",
      "----- dealing /raid61/LS4P-TPEMIP/TEMP_DATA/t2m/sys_tempfiles/2010.nc\n",
      "----- dealing /raid61/LS4P-TPEMIP/TEMP_DATA/t2m/sys_tempfiles/2011.nc\n",
      "----- dealing /raid61/LS4P-TPEMIP/TEMP_DATA/t2m/sys_tempfiles/2012.nc\n",
      "----- dealing /raid61/LS4P-TPEMIP/TEMP_DATA/t2m/sys_tempfiles/2013.nc\n",
      "----- dealing /raid61/LS4P-TPEMIP/TEMP_DATA/t2m/sys_tempfiles/2014.nc\n",
      "----- dealing /raid61/LS4P-TPEMIP/TEMP_DATA/t2m/sys_tempfiles/2015.nc\n",
      "All subprocesses done.\n"
     ]
    }
   ],
   "source": [
    "from multiprocessing import Pool\n",
    "import os, time, random\n",
    "print('Parent process %s.' % os.getpid())\n",
    "p = Pool(4)\n",
    "for i in range(len(files_in_list)):\n",
    "    p.apply_async(write_temp_nc, args=( (files_in_list[i], files_out_list[i]) ) )\n",
    "print('Waiting for all subprocesses done...')\n",
    "p.close()\n",
    "p.join()\n",
    "print('All subprocesses done.')"
   ]
  },
  {
   "cell_type": "markdown",
   "metadata": {},
   "source": [
    "### 合并所有文件到一个dataset"
   ]
  },
  {
   "cell_type": "code",
   "execution_count": 2,
   "metadata": {},
   "outputs": [],
   "source": [
    "# 2021.12.13 需要添加XLONG XLAT的属性来识别网格，用于后续的cdo的插值\n",
    "sys_xlatlong_temp = xr.open_dataset(\"/raid61/LS4P-TPEMIP/TEMP_DATA/t2m/sys_tempfiles/1991.nc\")"
   ]
  },
  {
   "cell_type": "code",
   "execution_count": 3,
   "metadata": {},
   "outputs": [],
   "source": [
    "path_out         = \"/raid61/LS4P-TPEMIP/TEMP_DATA/t2m/\"\n",
    "pr_sys = xr.open_mfdataset(\"/raid61/LS4P-TPEMIP/TEMP_DATA/t2m/sys_tempfiles/????.nc\", combine  = \"nested\", concat_dim = \"Time\")\n",
    "daily_xtime_pd = pd.to_datetime(pr_sys.XTIME.values)\n",
    "XTIME_daily    = xr.DataArray(daily_xtime_pd, name='Time',dims='Time')\n",
    "pr_sys  = pr_sys.rename({\"XTIME\":\"Time\"}).assign_coords( {\"Time\":XTIME_daily} )\n",
    "select_dict      = {} # 选定合适年月\n",
    "time_year        = (pr_sys.Time.dt.year >= 1991) # 时次相对较长，一开始使用1998年一年进行尝试\n",
    "time_month       = (pr_sys.Time.dt.month.isin([4,5,6,7,8])) # 时次相对较长，一开始使用1998年一年进行尝试\n",
    "select_time      = (time_year & time_month)\n",
    "select_dict['Time'] = select_time\n",
    "# 冗长的一步，在最后输出前，先将multcoords赋值正确，避免后续维度在进行计算时丢失\n",
    "pre_temp = pr_sys.sel(select_dict)\n",
    "pre_temp = pre_temp.assign_coords({\"south_north\":pre_temp.south_north, \"west_east\":pre_temp.west_east,\"XLAT\":pre_temp.XLAT, \"XLONG\":pre_temp.XLONG})\n",
    "pre_temp.XLAT.attrs = sys_xlatlong_temp.XLAT.attrs\n",
    "pre_temp.XLONG.attrs = sys_xlatlong_temp.XLONG.attrs\n",
    "# pre_temp.to_netcdf(path_out + \"SYS_t2m.nc\")"
   ]
  },
  {
   "cell_type": "markdown",
   "metadata": {},
   "source": [
    "因为此前读出的数据 cdo 处理起来较慢\n",
    "\n",
    "问题可能处在 XLAT XLONG 是3D变量，所以耽误很多时间在权重的计算上\n",
    "\n",
    "从头开始建立WRF类似的multdimensional coordinates的DataArray，将XLAT XLONG处理为2D变量并assign"
   ]
  },
  {
   "cell_type": "code",
   "execution_count": 6,
   "metadata": {},
   "outputs": [],
   "source": [
    "sys_t2 = pre_temp['T2'].values"
   ]
  },
  {
   "cell_type": "code",
   "execution_count": 71,
   "metadata": {},
   "outputs": [],
   "source": [
    "da_sys_t2 = xr.DataArray(sys_t2, dims = ['Time', \"south_north\",  \"west_east\"], name = 'T2')\n",
    "da_sys_t2_time = pre_temp.Time\n",
    "da_sys_t2_xlat   = pre_temp.XLAT[0]\n",
    "da_sys_t2_xlong= pre_temp.XLONG[0]\n",
    "add_coords = { \"XLONG\" : ((\"south_north\",  \"west_east\") , da_sys_t2_xlong ), \"XLAT\" : ((\"south_north\",  \"west_east\") , da_sys_t2_xlat),\\\n",
    "\"Time\":da_sys_t2_time }\n",
    "da_sys_t2 = da_sys_t2.assign_coords(add_coords)\n",
    "da_sys_t2.XLAT.attrs = da_sys_t2_xlat.attrs\n",
    "da_sys_t2.XLONG.attrs = da_sys_t2_xlong.attrs\n",
    "da_sys_t2.encoding['coordinates'] = 'Time XLAT XLONG'\n",
    "da_sys_t2 = da_sys_t2.assign_attrs({'corrdinates'  :  'Time XLAT XLONG'})"
   ]
  },
  {
   "cell_type": "code",
   "execution_count": 74,
   "metadata": {},
   "outputs": [],
   "source": [
    "da_sys_t2.to_netcdf(path_out + \"SYS_t2m.nc\")"
   ]
  },
  {
   "cell_type": "markdown",
   "metadata": {},
   "source": [
    "## Yang-ZhouX"
   ]
  },
  {
   "cell_type": "code",
   "execution_count": 2,
   "metadata": {},
   "outputs": [],
   "source": [
    "path_YZX               = \"/raid61/LS4P-TPEMIP/LS4P_Yang-ZhouX/sf/dailym&monthlym/\"\n",
    "filename_T2    = \"T2_ls4p_itpcasWRF_TPEMIP_dailym_*\"\n",
    "origin_ds  = xr.open_mfdataset(path_YZX + filename_T2, combine  = \"nested\", concat_dim = \"XTIME\")\n",
    "daily_xtime_pd = pd.to_datetime(origin_ds.XTIME.values)\n",
    "XTIME_daily    = xr.DataArray(daily_xtime_pd, name='Time',dims='Time')\n",
    "origin_ds  = origin_ds.rename({\"XTIME\":\"Time\"}).assign_coords( {\"Time\":XTIME_daily} )"
   ]
  },
  {
   "cell_type": "code",
   "execution_count": 3,
   "metadata": {},
   "outputs": [],
   "source": [
    "select_dict      = {} # 选定合适年月\n",
    "timesize = []\n",
    "# for iyear in range(1991, 2016):\n",
    "time_year        = (origin_ds.Time.dt.year >= 1991) # 时次相对较长，一开始使用1998年一年进行尝试\n",
    "time_month       = (origin_ds.Time.dt.month.isin([4,5,6,7,8])) # 时次相对较长，一开始使用1998年一年进行尝试\n",
    "select_time      = (time_year & time_month)\n",
    "select_dict['Time'] = select_time\n",
    "sel_yzx_temp = origin_ds.sel(select_dict)"
   ]
  },
  {
   "cell_type": "code",
   "execution_count": 9,
   "metadata": {},
   "outputs": [],
   "source": [
    "yzx_t2 = sel_yzx_temp.T2 # 仅输出 T2 变量就足够，DS会出现坐标的歧义"
   ]
  },
  {
   "cell_type": "code",
   "execution_count": 8,
   "metadata": {},
   "outputs": [],
   "source": [
    "path_out         = \"/raid61/LS4P-TPEMIP/TEMP_DATA/t2m/\"\n",
    "# sel_yzx_temp.to_netcdf(path_out + \"Yang-ZhouX_t2m.nc\")\n",
    "yzx_t2.to_netcdf(path_out + \"Yang-ZhouX_t2m.nc\")"
   ]
  },
  {
   "cell_type": "markdown",
   "metadata": {},
   "source": [
    "## YSU数据\n",
    "YSU数据添补充了经纬度坐标，添加时间维度以及补充的latlon文件中的维度；"
   ]
  },
  {
   "cell_type": "code",
   "execution_count": 64,
   "metadata": {},
   "outputs": [],
   "source": [
    "path_in = \"/raid61/LS4P-TPEMIP/TPEMIP-YSU/????/EAPL_LS4P_????_daily_d01.nc\"\n",
    "test = xr.open_mfdataset(path_in, concat_dim = \"day\", combine = \"nested\")\n",
    "xlat_xlong = xr.open_dataset(\"/raid61/LS4P-TPEMIP/TPEMIP-YSU/LS4P_YSU_EAPl_LATLON.nc\")"
   ]
  },
  {
   "cell_type": "code",
   "execution_count": 65,
   "metadata": {},
   "outputs": [],
   "source": [
    "time = pd.date_range(\"1991-01-01\",\"2015-12-31\", freq=\"D\")\n",
    "time_da = xr.DataArray(time, name = \"time\", dims = \"time\")\n",
    "correct_time_3825 = time_da.sel(time = time_da.dt.month.isin([4,5,6,7,8]))\n",
    "pr_temp = test['t2m'].rename({\"day\":\"time\"}).assign_coords({\"time\":correct_time_3825})\n",
    "# 添加multdimensional coords，通过字典来进行添加\n",
    "add_coords = { \"XLONG\" : ((\"lat\",\"lon\") , xlat_xlong.XLONG[0,:,:] ), \"XLAT\" : ((\"lat\",\"lon\") , xlat_xlong.XLAT[0,:,:] ) }\n",
    "pr_temp = pr_temp.assign_coords( add_coords )"
   ]
  },
  {
   "cell_type": "code",
   "execution_count": 66,
   "metadata": {},
   "outputs": [],
   "source": [
    "# 2021.12.13 需要添加XLONG XLAT的属性来识别网格，用于后续的cdo的插值\n",
    "pr_temp.XLONG.attrs = xlat_xlong.XLONG.attrs\n",
    "pr_temp.XLAT.attrs = xlat_xlong.XLAT.attrs\n",
    "# 重新添加coords名称，便于cdo进行插值，否则每个时次会单独计算插值的权重\n",
    "# pr_temp.coordinate = 'XLONG XLAT time'\n",
    "pr_temp = pr_temp.assign_attrs({\"coordinate\":\"time XLONG XLAT\", \"coordinates\":\"time XLONG XLAT\"})"
   ]
  },
  {
   "cell_type": "code",
   "execution_count": 69,
   "metadata": {},
   "outputs": [],
   "source": [
    "path_out         = \"/raid61/LS4P-TPEMIP/TEMP_DATA/t2m/\"\n",
    "pr_temp.to_netcdf(path_out + \"YSU_t2m.nc\")"
   ]
  },
  {
   "cell_type": "markdown",
   "metadata": {},
   "source": [
    "## JAMSTEC_WRF数据\n",
    "缺少4月\n",
    "\n",
    "t2m使用了zlib='True'的encoding，在写出的时候显著地影响了性能；最后去除"
   ]
  },
  {
   "cell_type": "code",
   "execution_count": 3,
   "metadata": {},
   "outputs": [],
   "source": [
    "path_in = \"/raid61/LS4P-TPEMIP/JAMSTEC_WRF_1991-2015/daily_2D/ncfile/????/t2m_JAMSTECWRF_TPEMIP_day_00z0105????-00z3108????.nc\"\n",
    "t2m = xr.open_mfdataset(path_in)['t2m']\n",
    "# path_in = \"/raid61/LS4P-TPEMIP/JAMSTEC_WRF_1991-2015/daily_2D/ncfile/????/mppre_JAMSTECWRF_TPEMIP_day_00z0105????-00z3108????.nc\"\n",
    "# mppre = xr.open_mfdataset(path_in)['mppre']\n",
    "# (mppre+conpre).mean(dim = 'time').plot.contourf(vmin = 0, vmax = 1, cmap = \"gist_ncar\")"
   ]
  },
  {
   "cell_type": "code",
   "execution_count": 3,
   "metadata": {},
   "outputs": [
    {
     "data": {
      "text/plain": [
       "<matplotlib.contour.QuadContourSet at 0x2b743c234f10>"
      ]
     },
     "execution_count": 3,
     "metadata": {},
     "output_type": "execute_result"
    },
    {
     "data": {
      "image/png": "[encoded data removed]",
      "text/plain": [
       "<Figure size 432x288 with 2 Axes>"
      ]
     },
     "metadata": {
      "needs_background": "light"
     },
     "output_type": "display_data"
    }
   ],
   "source": [
    "t2m.mean(dim = 'time').plot.contourf(vmin = 270, vmax = 310, cmap = \"gist_ncar\")"
   ]
  },
  {
   "cell_type": "code",
   "execution_count": 4,
   "metadata": {},
   "outputs": [],
   "source": [
    "t2m.encoding['coordinates'] = 'time lat lon'\n",
    "t2m['lon'] = t2m['lon'].assign_attrs({\"axis\" : \"X\" })\n",
    "t2m['lat'] = t2m['lat'].assign_attrs({\"axis\" : \"Y\" })"
   ]
  },
  {
   "cell_type": "code",
   "execution_count": 9,
   "metadata": {},
   "outputs": [],
   "source": [
    "path_out         = \"/raid61/LS4P-TPEMIP/TEMP_DATA/t2m/\"\n",
    "t2m.encoding['zlib'] = False\n",
    "t2m.to_netcdf(path_out + \"JAMSTECWRF_t2m.nc\")"
   ]
  },
  {
   "cell_type": "markdown",
   "metadata": {},
   "source": [
    "## CWRF\n",
    "数据暂时只有平均态，找到了逐月的多年平均，但是是从1980-2016年，相比原本的时段更长"
   ]
  },
  {
   "cell_type": "code",
   "execution_count": 21,
   "metadata": {},
   "outputs": [],
   "source": [
    "# # path_in = \"/raid61/LS4P-TPEMIP/TPEMIP-CWRF/Task1/daily/pr_LS4P_CWRF_Task1_day_00z01052003-21z30062003.nc\"\n",
    "# # path_in = \"/raid61/LS4P-TPEMIP/TPEMIP-CWRF/Task2/\" + \"pr_LS4P_CWRF_Task2_jun_00z01011980-21z31122016.nc\"\n",
    "path_in = \"/raid61/LS4P-TPEMIP/TPEMIP-CWRF/Task2/\" + \"t2m_LS4P_CWRF_Task2_mon_00z01011980-21z31122016.nc\"\n",
    "test  = xr.open_dataset(path_in)\n",
    "path_out         = \"/raid61/LS4P-TPEMIP/TEMP_DATA/t2m/\"\n",
    "test['t2m'].to_netcdf(path_out + \"CWRF_t2m.nc\")"
   ]
  }
 ],
 "metadata": {
  "kernelspec": {
   "display_name": "proplot1006",
   "language": "python",
   "name": "proplot1006"
  },
  "language_info": {
   "codemirror_mode": {
    "name": "ipython",
    "version": 3
   },
   "file_extension": ".py",
   "mimetype": "text/x-python",
   "name": "python",
   "nbconvert_exporter": "python",
   "pygments_lexer": "ipython3",
   "version": "3.8.2"
  }
 },
 "nbformat": 4,
 "nbformat_minor": 4
}
