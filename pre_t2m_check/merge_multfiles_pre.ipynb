{
 "cells": [
  {
   "cell_type": "code",
   "execution_count": 1,
   "metadata": {},
   "outputs": [],
   "source": [
    "import numpy as np\n",
    "import matplotlib.pyplot as plt\n",
    "import xarray as xr\n",
    "import pandas as pd\n",
    "import glob"
   ]
  },
  {
   "cell_type": "markdown",
   "metadata": {},
   "source": [
    "# 2021.10.03\n",
    "读取LS4P中的部分数据进行合并，用于后续绘图"
   ]
  },
  {
   "cell_type": "markdown",
   "metadata": {},
   "source": [
    "## NJU LS4P_B\n",
    "单位为 kg*m^-2*s^-1 需要转换到mm/d 乘以86400"
   ]
  },
  {
   "cell_type": "code",
   "execution_count": null,
   "metadata": {},
   "outputs": [],
   "source": [
    "# read mult NC files to select specfic var\n",
    "NJU_path         = \"/raid61/LS4P-TPEMIP/TPEMIP-NJU/\"\n",
    "multfiles_names  = glob.glob(NJU_path + \"LS4P_B*/LS4P_STS*.nc\")\n",
    "xr_multfiles     = xr.open_mfdataset(multfiles_names, parallel = True)\n",
    "pr_nju           = xr_multfiles['pr']*86400 #更改单位 mm\n",
    "select_dict      = {} # 选定合适年月\n",
    "time_year        = (pr_nju.time.dt.year >= 1991) # 时次相对较长，一开始使用1998年一年进行尝试\n",
    "time_month       = (pr_nju.time.dt.month.isin([4,5,6,7,8])) # 时次相对较长，一开始使用1998年一年进行尝试\n",
    "select_time      = (time_year & time_month)\n",
    "select_dict['time'] = select_time\n",
    "# wrtie dask nc files to single files\n",
    "path_out         = \"/raid61/LS4P-TPEMIP/TEMP_DATA/precip/\"\n",
    "pr_nju.sel(select_dict).to_netcdf(path_out + \"NJU_LS4P_B_pre.nc\")"
   ]
  },
  {
   "cell_type": "markdown",
   "metadata": {},
   "source": [
    "## NJU LS4P_C\n",
    "单位为 kg*m^-2*s^-1 需要转换到mm/d 乘以86400"
   ]
  },
  {
   "cell_type": "code",
   "execution_count": null,
   "metadata": {},
   "outputs": [],
   "source": [
    "# read mult NC files to select specfic var\n",
    "NJU_path         = \"/raid61/LS4P-TPEMIP/TPEMIP-NJU/\"\n",
    "multfiles_names  = glob.glob(NJU_path + \"LS4P_C*/LS4P_STS*.nc\")\n",
    "xr_multfiles     = xr.open_mfdataset(multfiles_names, parallel = True)\n",
    "pr_nju           = xr_multfiles['pr']*86400 #更改单位 mm\n",
    "select_dict      = {} # 选定合适年月\n",
    "time_year        = (pr_nju.time.dt.year >= 1991) # 时次相对较长，一开始使用1998年一年进行尝试\n",
    "time_month       = (pr_nju.time.dt.month.isin([4,5,6,7,8])) # 时次相对较长，一开始使用1998年一年进行尝试\n",
    "select_time      = (time_year & time_month)\n",
    "select_dict['time'] = select_time\n",
    "# wrtie dask nc files to single files\n",
    "path_out         = \"/raid61/LS4P-TPEMIP/TEMP_DATA/precip/\"\n",
    "pr_nju.sel(select_dict).to_netcdf(path_out + \"NJU_LS4P_C_pre.nc\")"
   ]
  },
  {
   "cell_type": "markdown",
   "metadata": {},
   "source": [
    "## SYS\n",
    "wrf后处理，需要将累计降水处理为逐日的降水"
   ]
  },
  {
   "cell_type": "markdown",
   "metadata": {},
   "source": [
    "### 提取变量的中间文件处理部分\n",
    "因为SYS文件相对较大（6hr间隔）因此预先处理出一个同目录下的文件夹中的中间文件，并用之后再计算逐日的情况\n",
    "\n",
    "需要将不同的文件进行并发操作，加快dask的写出部分"
   ]
  },
  {
   "cell_type": "code",
   "execution_count": null,
   "metadata": {},
   "outputs": [],
   "source": [
    "# read mult NC files to select specfic var\n",
    "# sys文件太大，先使用cdo处理出来一批临时文件，再将临时文件进行合并\n",
    "import os\n",
    "out_path                   = \"/raid61/LS4P-TPEMIP/TEMP_DATA/precip/sys_tempfiles/\"  # 存放sys的临时文件\n",
    "os.system(\"mkdir -p \" + out_path)\n",
    "files_in_list = []\n",
    "files_out_list = []\n",
    "for single_year in range(1991, 2016):\n",
    "    SYS_path                  = \"/raid61/LS4P-TPEMIP/LS4P_TPEMIP_RCM/WRF4.2.1/wrfout-\" + str(single_year) + \"/\"\n",
    "    multfiles_names       = glob.glob(SYS_path + \"LS4P_WRF4.2.1_TPEMIP_Phase1_6hr_*.nc\")\n",
    "    files_in_list.append(multfiles_names)\n",
    "    files_out_list.append(out_path + str(single_year) + \".nc\")\n",
    "\n",
    "def write_temp_nc(files_in, files_out):\n",
    "    print(\"----- dealing \" + files_out)\n",
    "    ds_temp                   = xr.open_mfdataset(files_in[:], combine  = \"nested\", concat_dim = \"Time\")[['RAINC','RAINNC','RAINSH']]\n",
    "    ds_temp.to_netcdf(files_out)"
   ]
  },
  {
   "cell_type": "markdown",
   "metadata": {},
   "source": [
    "配合mfdataset，并发进行写数据环节，效果还行，将4mins一个文件的速度提升到了2mins一个"
   ]
  },
  {
   "cell_type": "code",
   "execution_count": null,
   "metadata": {},
   "outputs": [],
   "source": [
    "from multiprocessing import Pool\n",
    "import os, time, random\n",
    "print('Parent process %s.' % os.getpid())\n",
    "p = Pool(4)\n",
    "for i in range(len(files_in_list)):\n",
    "    p.apply_async(write_temp_nc, args=( (files_in_list[i], files_out_list[i]) ) )\n",
    "print('Waiting for all subprocesses done...')\n",
    "p.close()\n",
    "p.join()\n",
    "print('All subprocesses done.')"
   ]
  },
  {
   "cell_type": "markdown",
   "metadata": {},
   "source": [
    "### 逐日数据的计算部分\n",
    "将WRF中的RAINC RAINNC RAINSH三个变量进行累加，之后计算到日平均，再将累计降水计算为每一天的增量；增量的时间放置在前一个时次"
   ]
  },
  {
   "cell_type": "code",
   "execution_count": null,
   "metadata": {},
   "outputs": [],
   "source": [
    "from os.path import basename\n",
    "# 整理降水数据\n",
    "for single_file in files_out_list:\n",
    "    ds_wrf_sys= xr.open_dataset( single_file )\n",
    "    # 做差计算每6小时的降水\n",
    "    mod_pre = {}\n",
    "    testb = ds_wrf_sys['RAINC'][1:,:,:].assign_coords({\"XTIME\":ds_wrf_sys['RAINC'][0:-1,:,:].XTIME})\n",
    "    testa = ds_wrf_sys['RAINC'][0:-1,:,:]\n",
    "    mod_pre['RAINC'] = testb - testa\n",
    "    testb = ds_wrf_sys['RAINNC'][1:,:,:].assign_coords({\"XTIME\":ds_wrf_sys['RAINNC'][0:-1,:,:].XTIME})\n",
    "    testa = ds_wrf_sys['RAINNC'][0:-1,:,:]\n",
    "    mod_pre['RAINNC'] = testb - testa\n",
    "    testb = ds_wrf_sys['RAINSH'][1:,:,:].assign_coords({\"XTIME\":ds_wrf_sys['RAINSH'][0:-1,:,:].XTIME})\n",
    "    testa = ds_wrf_sys['RAINSH'][0:-1,:,:]\n",
    "    mod_pre['RAINSH'] = testb - testa\n",
    "    mod_pre['pre'] = mod_pre['RAINC'] + mod_pre['RAINNC'] + mod_pre['RAINSH'] # 六小时间隔总降水\n",
    "    \n",
    "    # count daily mean precip\n",
    "    # 原本的时间坐标 XTIME daily_xtime 和XTIME一样大，但是进行了daily的group\n",
    "    daily_xtime = mod_pre['pre'].XTIME.dt.strftime(\"%Y-%m-%d\")\n",
    "    mod_pre['dailypre'] = mod_pre['pre'].groupby(daily_xtime).mean(\"Time\") * 4 # 六小时降水处理为24小时的累计降水\n",
    "    # change dataarry name\n",
    "    mod_pre['dailypre'].name='dailypre'\n",
    "    # 从原来group使用的srftime修改为正确的cf格式的时间 到daily_xtime_pd 并创建稳数组XTIME，以便后续作为坐标变量\n",
    "    daily_xtime_pd = pd.to_datetime(mod_pre['dailypre'].strftime.values)\n",
    "    XTIME_daily    = xr.DataArray(daily_xtime_pd, name='Time',dims='Time')\n",
    "    # 修改坐标变量\n",
    "    mod_pre['dailypre'] = mod_pre['dailypre'].rename({\"strftime\":\"Time\"}).assign_coords( {\"Time\":XTIME_daily} )\n",
    "    \n",
    "    # 2D LAT LON 的坐标变量居然没有正确复制，先进行一下时间平均的操作，再assign\n",
    "    xlat    = mod_pre['pre'].XLAT.groupby(daily_xtime).mean(\"Time\").rename({\"strftime\":\"Time\"}).assign_coords( {\"Time\":XTIME_daily} )\n",
    "    xlong = mod_pre['pre'].XLONG.groupby(daily_xtime).mean(\"Time\").rename({\"strftime\":\"Time\"}).assign_coords( {\"Time\":XTIME_daily} )\n",
    "    mod_pre['dailypre'] = mod_pre['dailypre'].assign_coords({\"XLAT\":xlat, \"XLONG\":xlong})\n",
    "    \n",
    "    # 输出到NC文件\n",
    "    mod_pre['dailypre'].to_netcdf(out_path +\"increment_\" +basename( single_file ),'w')"
   ]
  },
  {
   "cell_type": "markdown",
   "metadata": {},
   "source": [
    "### 合并所有降水数据到一个新dataset中"
   ]
  },
  {
   "cell_type": "code",
   "execution_count": null,
   "metadata": {},
   "outputs": [],
   "source": [
    "path_out         = \"/raid61/LS4P-TPEMIP/TEMP_DATA/precip/\"\n",
    "pr_sys = xr.open_mfdataset(\"/raid61/LS4P-TPEMIP/TEMP_DATA/precip/sys_tempfiles/increment_*.nc\")\n",
    "select_dict      = {} # 选定合适年月\n",
    "time_year        = (pr_sys.Time.dt.year >= 1991) # 时次相对较长，一开始使用1998年一年进行尝试\n",
    "time_month       = (pr_sys.Time.dt.month.isin([4,5,6,7,8])) # 时次相对较长，一开始使用1998年一年进行尝试\n",
    "select_time      = (time_year & time_month)\n",
    "select_dict['Time'] = select_time\n",
    "# 冗长的一步，在最后输出前，先将multcoords赋值正确，避免后续维度在进行计算时丢失\n",
    "pre_temp = pr_sys.sel(select_dict)\n",
    "pre_temp = pre_temp.assign_coords({\"south_north\":pre_temp.south_north, \"west_east\":pre_temp.west_east,\"XLAT\":pre_temp.XLAT, \"XLONG\":pre_temp.XLONG})\n",
    "pre_temp.to_netcdf(path_out + \"SYS_pre.nc\")"
   ]
  },
  {
   "cell_type": "markdown",
   "metadata": {},
   "source": [
    "## Yang-ZhouX\n",
    "daily的rainc和rainnc已经整理好，下面直接修改时间坐标，选取时间段，之后写出"
   ]
  },
  {
   "cell_type": "markdown",
   "metadata": {},
   "source": [
    "### 读入数据\n",
    "数据来源有2,daily的RAINNC和RAINC分开存放"
   ]
  },
  {
   "cell_type": "code",
   "execution_count": null,
   "metadata": {},
   "outputs": [],
   "source": [
    "path_YZX               = \"/raid61/LS4P-TPEMIP/LS4P_Yang-ZhouX/sf/dailym&monthlym/\"\n",
    "filename_RAINC    = \"RAINC_ls4p_itpcasWRF_TPEMIP_dailym_00z0101????-00z3112????.nc\"\n",
    "filename_RAINNC = \"RAINNC_ls4p_itpcasWRF_TPEMIP_dailym_00z0101????-00z3112????.nc\"\n",
    "origin_ds = {}\n",
    "origin_ds['rainc']   = xr.open_mfdataset(path_YZX + filename_RAINC, combine  = \"nested\", concat_dim = \"XTIME\")\n",
    "origin_ds['rainnc'] = xr.open_mfdataset(path_YZX + filename_RAINNC, combine  = \"nested\", concat_dim = \"XTIME\")\n",
    "for var in origin_ds:\n",
    "    daily_xtime_pd = pd.to_datetime(origin_ds[var].XTIME.values)\n",
    "    XTIME_daily    = xr.DataArray(daily_xtime_pd, name='Time',dims='Time')\n",
    "    origin_ds[var]  = origin_ds[var].rename({\"XTIME\":\"Time\"}).assign_coords( {\"Time\":XTIME_daily} )"
   ]
  },
  {
   "cell_type": "markdown",
   "metadata": {},
   "source": [
    "### 相加计算每日的累计降水"
   ]
  },
  {
   "cell_type": "code",
   "execution_count": null,
   "metadata": {},
   "outputs": [],
   "source": [
    "total_pre = origin_ds['rainc']['RAINC'] + origin_ds['rainnc']['RAINNC']\n",
    "total_pre = total_pre.rename('dailypre')\n",
    "select_dict      = {} # 选定合适年月\n",
    "timesize = []\n",
    "# for iyear in range(1991, 2016):\n",
    "time_year        = (total_pre.Time.dt.year >= 1991) # 时次相对较长，一开始使用1998年一年进行尝试\n",
    "time_month       = (total_pre.Time.dt.month.isin([4,5,6,7,8])) # 时次相对较长，一开始使用1998年一年进行尝试\n",
    "select_time      = (time_year & time_month)\n",
    "select_dict['Time'] = select_time\n",
    "sel_yzx_temp = total_pre.sel(select_dict)"
   ]
  },
  {
   "cell_type": "markdown",
   "metadata": {},
   "source": [
    "### 去除掉多余的2009年的数据，位置在153 307 461三个时间index的位置"
   ]
  },
  {
   "cell_type": "code",
   "execution_count": null,
   "metadata": {},
   "outputs": [],
   "source": [
    "sel_time          = sel_yzx_temp.Time\n",
    "time_delete    = ( sel_time.Time.dt.year.isin([2009]) & sel_time.Time.dt.month.isin([4]) )\n",
    "delete_index   = np.argwhere(time_delete.values == True)[0:3].reshape(3)  # 153 307 461 三个records含有2009年index的数据，显然不合理\n",
    "inverse_index = np.array( [i for i in range(0,sel_time.shape[0]) if i not in delete_index] )\n",
    "sel_yzx            = sel_yzx_temp.isel(Time = inverse_index)\n",
    "path_out         = \"/raid61/LS4P-TPEMIP/TEMP_DATA/precip/\"\n",
    "sel_yzx.to_netcdf(path_out + \"Yang-ZhouX_pre.nc\")"
   ]
  },
  {
   "cell_type": "markdown",
   "metadata": {},
   "source": [
    "## YSU数据\n",
    "YSU数据添补充了经纬度坐标,提取daily数据中的pr变量，添加时间维度以及补充的latlon文件中的维度；"
   ]
  },
  {
   "cell_type": "code",
   "execution_count": null,
   "metadata": {},
   "outputs": [],
   "source": [
    "path_in = \"/raid61/LS4P-TPEMIP/TPEMIP-YSU/????/EAPL_LS4P_????_daily_d01.nc\"\n",
    "test = xr.open_mfdataset(path_in, concat_dim = \"day\", combine = \"nested\")\n",
    "test['pr']\n",
    "xlat_xlong = xr.open_dataset(\"/raid61/LS4P-TPEMIP/TPEMIP-YSU/LS4P_YSU_EAPl_LATLON.nc\")"
   ]
  },
  {
   "cell_type": "code",
   "execution_count": null,
   "metadata": {},
   "outputs": [],
   "source": [
    "time = pd.date_range(\"1991-01-01\",\"2015-12-31\", freq=\"D\")\n",
    "time_da = xr.DataArray(time, name = \"time\", dims = \"time\")\n",
    "correct_time_3825 = time_da.sel(time = time_da.dt.month.isin([4,5,6,7,8]))\n",
    "pr_temp = test['pr'].rename({\"day\":\"time\"}).assign_coords({\"time\":correct_time_3825})\n",
    "# 添加multdimensional coords，通过字典来进行添加\n",
    "add_coords = { \"XLONG\" : ((\"lat\",\"lon\") , xlat_xlong.XLONG[0,:,:] ), \"XLAT\" : ((\"lat\",\"lon\") , xlat_xlong.XLAT[0,:,:] ) }\n",
    "pr_temp = pr_temp.assign_coords( add_coords )"
   ]
  },
  {
   "cell_type": "code",
   "execution_count": null,
   "metadata": {},
   "outputs": [],
   "source": [
    "path_out         = \"/raid61/LS4P-TPEMIP/TEMP_DATA/precip/\"\n",
    "pr_temp.to_netcdf(path_out + \"YSU_pre.nc\")"
   ]
  },
  {
   "cell_type": "markdown",
   "metadata": {},
   "source": [
    "## JAMSTEC_WRF数据\n",
    "缺少4月，并且不知道绘制的变量 conpre 和 mppre 是否正确\n",
    "\n",
    "确认：需要相加conpre mppre 以及单位是mm/hr"
   ]
  },
  {
   "cell_type": "code",
   "execution_count": 75,
   "metadata": {},
   "outputs": [
    {
     "data": {
      "text/plain": [
       "<matplotlib.contour.QuadContourSet at 0x2b21580048b0>"
      ]
     },
     "execution_count": 75,
     "metadata": {},
     "output_type": "execute_result"
    },
    {
     "data": {
      "image/png": "[encoded data removed]",
      "text/plain": [
       "<Figure size 432x288 with 2 Axes>"
      ]
     },
     "metadata": {
      "needs_background": "light"
     },
     "output_type": "display_data"
    }
   ],
   "source": [
    "path_in = \"/raid61/LS4P-TPEMIP/JAMSTEC_WRF_1991-2015/daily_2D/ncfile/????/conpre_JAMSTECWRF_TPEMIP_day_00z0105????-00z3108????.nc\"\n",
    "conpre = xr.open_mfdataset(path_in)['conpre']\n",
    "# conpre.mean(dim = 'time').plot.contourf(vmin = 0, vmax = 2, cmap = \"gist_ncar\")\n",
    "path_in = \"/raid61/LS4P-TPEMIP/JAMSTEC_WRF_1991-2015/daily_2D/ncfile/????/mppre_JAMSTECWRF_TPEMIP_day_00z0105????-00z3108????.nc\"\n",
    "mppre = xr.open_mfdataset(path_in)['mppre']\n",
    "(mppre+conpre).mean(dim = 'time').plot.contourf(vmin = 0, vmax = 1, cmap = \"gist_ncar\")"
   ]
  },
  {
   "cell_type": "code",
   "execution_count": 71,
   "metadata": {},
   "outputs": [],
   "source": [
    "path_out         = \"/raid61/LS4P-TPEMIP/TEMP_DATA/precip/\"\n",
    "(conpre + mppre).rename('pr').to_netcdf(path_out + \"JAMSTECWRF_pre.nc\")"
   ]
  },
  {
   "cell_type": "code",
   "execution_count": 115,
   "metadata": {},
   "outputs": [
    {
     "data": {
      "text/html": [
       "<div><svg style=\"position: absolute; width: 0; height: 0; overflow: hidden\">\n",
       "<defs>\n",
       "<symbol id=\"icon-database\" viewBox=\"0 0 32 32\">\n",
       "<path d=\"M16 0c-8.837 0-16 2.239-16 5v4c0 2.761 7.163 5 16 5s16-2.239 16-5v-4c0-2.761-7.163-5-16-5z\"></path>\n",
       "<path d=\"M16 17c-8.837 0-16-2.239-16-5v6c0 2.761 7.163 5 16 5s16-2.239 16-5v-6c0 2.761-7.163 5-16 5z\"></path>\n",
       "<path d=\"M16 26c-8.837 0-16-2.239-16-5v6c0 2.761 7.163 5 16 5s16-2.239 16-5v-6c0 2.761-7.163 5-16 5z\"></path>\n",
       "</symbol>\n",
       "<symbol id=\"icon-file-text2\" viewBox=\"0 0 32 32\">\n",
       "<path d=\"M28.681 7.159c-0.694-0.947-1.662-2.053-2.724-3.116s-2.169-2.030-3.116-2.724c-1.612-1.182-2.393-1.319-2.841-1.319h-15.5c-1.378 0-2.5 1.121-2.5 2.5v27c0 1.378 1.122 2.5 2.5 2.5h23c1.378 0 2.5-1.122 2.5-2.5v-19.5c0-0.448-0.137-1.23-1.319-2.841zM24.543 5.457c0.959 0.959 1.712 1.825 2.268 2.543h-4.811v-4.811c0.718 0.556 1.584 1.309 2.543 2.268zM28 29.5c0 0.271-0.229 0.5-0.5 0.5h-23c-0.271 0-0.5-0.229-0.5-0.5v-27c0-0.271 0.229-0.5 0.5-0.5 0 0 15.499-0 15.5 0v7c0 0.552 0.448 1 1 1h7v19.5z\"></path>\n",
       "<path d=\"M23 26h-14c-0.552 0-1-0.448-1-1s0.448-1 1-1h14c0.552 0 1 0.448 1 1s-0.448 1-1 1z\"></path>\n",
       "<path d=\"M23 22h-14c-0.552 0-1-0.448-1-1s0.448-1 1-1h14c0.552 0 1 0.448 1 1s-0.448 1-1 1z\"></path>\n",
       "<path d=\"M23 18h-14c-0.552 0-1-0.448-1-1s0.448-1 1-1h14c0.552 0 1 0.448 1 1s-0.448 1-1 1z\"></path>\n",
       "</symbol>\n",
       "</defs>\n",
       "</svg>\n",
       "<style>/* CSS stylesheet for displaying xarray objects in jupyterlab.\n",
       " *\n",
       " */\n",
       "\n",
       ":root {\n",
       "  --xr-font-color0: var(--jp-content-font-color0, rgba(0, 0, 0, 1));\n",
       "  --xr-font-color2: var(--jp-content-font-color2, rgba(0, 0, 0, 0.54));\n",
       "  --xr-font-color3: var(--jp-content-font-color3, rgba(0, 0, 0, 0.38));\n",
       "  --xr-border-color: var(--jp-border-color2, #e0e0e0);\n",
       "  --xr-disabled-color: var(--jp-layout-color3, #bdbdbd);\n",
       "  --xr-background-color: var(--jp-layout-color0, white);\n",
       "  --xr-background-color-row-even: var(--jp-layout-color1, white);\n",
       "  --xr-background-color-row-odd: var(--jp-layout-color2, #eeeeee);\n",
       "}\n",
       "\n",
       "html[theme=dark],\n",
       "body.vscode-dark {\n",
       "  --xr-font-color0: rgba(255, 255, 255, 1);\n",
       "  --xr-font-color2: rgba(255, 255, 255, 0.54);\n",
       "  --xr-font-color3: rgba(255, 255, 255, 0.38);\n",
       "  --xr-border-color: #1F1F1F;\n",
       "  --xr-disabled-color: #515151;\n",
       "  --xr-background-color: #111111;\n",
       "  --xr-background-color-row-even: #111111;\n",
       "  --xr-background-color-row-odd: #313131;\n",
       "}\n",
       "\n",
       ".xr-wrap {\n",
       "  display: block;\n",
       "  min-width: 300px;\n",
       "  max-width: 700px;\n",
       "}\n",
       "\n",
       ".xr-text-repr-fallback {\n",
       "  /* fallback to plain text repr when CSS is not injected (untrusted notebook) */\n",
       "  display: none;\n",
       "}\n",
       "\n",
       ".xr-header {\n",
       "  padding-top: 6px;\n",
       "  padding-bottom: 6px;\n",
       "  margin-bottom: 4px;\n",
       "  border-bottom: solid 1px var(--xr-border-color);\n",
       "}\n",
       "\n",
       ".xr-header > div,\n",
       ".xr-header > ul {\n",
       "  display: inline;\n",
       "  margin-top: 0;\n",
       "  margin-bottom: 0;\n",
       "}\n",
       "\n",
       ".xr-obj-type,\n",
       ".xr-array-name {\n",
       "  margin-left: 2px;\n",
       "  margin-right: 10px;\n",
       "}\n",
       "\n",
       ".xr-obj-type {\n",
       "  color: var(--xr-font-color2);\n",
       "}\n",
       "\n",
       ".xr-sections {\n",
       "  padding-left: 0 !important;\n",
       "  display: grid;\n",
       "  grid-template-columns: 150px auto auto 1fr 20px 20px;\n",
       "}\n",
       "\n",
       ".xr-section-item {\n",
       "  display: contents;\n",
       "}\n",
       "\n",
       ".xr-section-item input {\n",
       "  display: none;\n",
       "}\n",
       "\n",
       ".xr-section-item input + label {\n",
       "  color: var(--xr-disabled-color);\n",
       "}\n",
       "\n",
       ".xr-section-item input:enabled + label {\n",
       "  cursor: pointer;\n",
       "  color: var(--xr-font-color2);\n",
       "}\n",
       "\n",
       ".xr-section-item input:enabled + label:hover {\n",
       "  color: var(--xr-font-color0);\n",
       "}\n",
       "\n",
       ".xr-section-summary {\n",
       "  grid-column: 1;\n",
       "  color: var(--xr-font-color2);\n",
       "  font-weight: 500;\n",
       "}\n",
       "\n",
       ".xr-section-summary > span {\n",
       "  display: inline-block;\n",
       "  padding-left: 0.5em;\n",
       "}\n",
       "\n",
       ".xr-section-summary-in:disabled + label {\n",
       "  color: var(--xr-font-color2);\n",
       "}\n",
       "\n",
       ".xr-section-summary-in + label:before {\n",
       "  display: inline-block;\n",
       "  content: '►';\n",
       "  font-size: 11px;\n",
       "  width: 15px;\n",
       "  text-align: center;\n",
       "}\n",
       "\n",
       ".xr-section-summary-in:disabled + label:before {\n",
       "  color: var(--xr-disabled-color);\n",
       "}\n",
       "\n",
       ".xr-section-summary-in:checked + label:before {\n",
       "  content: '▼';\n",
       "}\n",
       "\n",
       ".xr-section-summary-in:checked + label > span {\n",
       "  display: none;\n",
       "}\n",
       "\n",
       ".xr-section-summary,\n",
       ".xr-section-inline-details {\n",
       "  padding-top: 4px;\n",
       "  padding-bottom: 4px;\n",
       "}\n",
       "\n",
       ".xr-section-inline-details {\n",
       "  grid-column: 2 / -1;\n",
       "}\n",
       "\n",
       ".xr-section-details {\n",
       "  display: none;\n",
       "  grid-column: 1 / -1;\n",
       "  margin-bottom: 5px;\n",
       "}\n",
       "\n",
       ".xr-section-summary-in:checked ~ .xr-section-details {\n",
       "  display: contents;\n",
       "}\n",
       "\n",
       ".xr-array-wrap {\n",
       "  grid-column: 1 / -1;\n",
       "  display: grid;\n",
       "  grid-template-columns: 20px auto;\n",
       "}\n",
       "\n",
       ".xr-array-wrap > label {\n",
       "  grid-column: 1;\n",
       "  vertical-align: top;\n",
       "}\n",
       "\n",
       ".xr-preview {\n",
       "  color: var(--xr-font-color3);\n",
       "}\n",
       "\n",
       ".xr-array-preview,\n",
       ".xr-array-data {\n",
       "  padding: 0 5px !important;\n",
       "  grid-column: 2;\n",
       "}\n",
       "\n",
       ".xr-array-data,\n",
       ".xr-array-in:checked ~ .xr-array-preview {\n",
       "  display: none;\n",
       "}\n",
       "\n",
       ".xr-array-in:checked ~ .xr-array-data,\n",
       ".xr-array-preview {\n",
       "  display: inline-block;\n",
       "}\n",
       "\n",
       ".xr-dim-list {\n",
       "  display: inline-block !important;\n",
       "  list-style: none;\n",
       "  padding: 0 !important;\n",
       "  margin: 0;\n",
       "}\n",
       "\n",
       ".xr-dim-list li {\n",
       "  display: inline-block;\n",
       "  padding: 0;\n",
       "  margin: 0;\n",
       "}\n",
       "\n",
       ".xr-dim-list:before {\n",
       "  content: '(';\n",
       "}\n",
       "\n",
       ".xr-dim-list:after {\n",
       "  content: ')';\n",
       "}\n",
       "\n",
       ".xr-dim-list li:not(:last-child):after {\n",
       "  content: ',';\n",
       "  padding-right: 5px;\n",
       "}\n",
       "\n",
       ".xr-has-index {\n",
       "  font-weight: bold;\n",
       "}\n",
       "\n",
       ".xr-var-list,\n",
       ".xr-var-item {\n",
       "  display: contents;\n",
       "}\n",
       "\n",
       ".xr-var-item > div,\n",
       ".xr-var-item label,\n",
       ".xr-var-item > .xr-var-name span {\n",
       "  background-color: var(--xr-background-color-row-even);\n",
       "  margin-bottom: 0;\n",
       "}\n",
       "\n",
       ".xr-var-item > .xr-var-name:hover span {\n",
       "  padding-right: 5px;\n",
       "}\n",
       "\n",
       ".xr-var-list > li:nth-child(odd) > div,\n",
       ".xr-var-list > li:nth-child(odd) > label,\n",
       ".xr-var-list > li:nth-child(odd) > .xr-var-name span {\n",
       "  background-color: var(--xr-background-color-row-odd);\n",
       "}\n",
       "\n",
       ".xr-var-name {\n",
       "  grid-column: 1;\n",
       "}\n",
       "\n",
       ".xr-var-dims {\n",
       "  grid-column: 2;\n",
       "}\n",
       "\n",
       ".xr-var-dtype {\n",
       "  grid-column: 3;\n",
       "  text-align: right;\n",
       "  color: var(--xr-font-color2);\n",
       "}\n",
       "\n",
       ".xr-var-preview {\n",
       "  grid-column: 4;\n",
       "}\n",
       "\n",
       ".xr-var-name,\n",
       ".xr-var-dims,\n",
       ".xr-var-dtype,\n",
       ".xr-preview,\n",
       ".xr-attrs dt {\n",
       "  white-space: nowrap;\n",
       "  overflow: hidden;\n",
       "  text-overflow: ellipsis;\n",
       "  padding-right: 10px;\n",
       "}\n",
       "\n",
       ".xr-var-name:hover,\n",
       ".xr-var-dims:hover,\n",
       ".xr-var-dtype:hover,\n",
       ".xr-attrs dt:hover {\n",
       "  overflow: visible;\n",
       "  width: auto;\n",
       "  z-index: 1;\n",
       "}\n",
       "\n",
       ".xr-var-attrs,\n",
       ".xr-var-data {\n",
       "  display: none;\n",
       "  background-color: var(--xr-background-color) !important;\n",
       "  padding-bottom: 5px !important;\n",
       "}\n",
       "\n",
       ".xr-var-attrs-in:checked ~ .xr-var-attrs,\n",
       ".xr-var-data-in:checked ~ .xr-var-data {\n",
       "  display: block;\n",
       "}\n",
       "\n",
       ".xr-var-data > table {\n",
       "  float: right;\n",
       "}\n",
       "\n",
       ".xr-var-name span,\n",
       ".xr-var-data,\n",
       ".xr-attrs {\n",
       "  padding-left: 25px !important;\n",
       "}\n",
       "\n",
       ".xr-attrs,\n",
       ".xr-var-attrs,\n",
       ".xr-var-data {\n",
       "  grid-column: 1 / -1;\n",
       "}\n",
       "\n",
       "dl.xr-attrs {\n",
       "  padding: 0;\n",
       "  margin: 0;\n",
       "  display: grid;\n",
       "  grid-template-columns: 125px auto;\n",
       "}\n",
       "\n",
       ".xr-attrs dt,\n",
       ".xr-attrs dd {\n",
       "  padding: 0;\n",
       "  margin: 0;\n",
       "  float: left;\n",
       "  padding-right: 10px;\n",
       "  width: auto;\n",
       "}\n",
       "\n",
       ".xr-attrs dt {\n",
       "  font-weight: normal;\n",
       "  grid-column: 1;\n",
       "}\n",
       "\n",
       ".xr-attrs dt:hover span {\n",
       "  display: inline-block;\n",
       "  background: var(--xr-background-color);\n",
       "  padding-right: 10px;\n",
       "}\n",
       "\n",
       ".xr-attrs dd {\n",
       "  grid-column: 2;\n",
       "  white-space: pre-wrap;\n",
       "  word-break: break-all;\n",
       "}\n",
       "\n",
       ".xr-icon-database,\n",
       ".xr-icon-file-text2 {\n",
       "  display: inline-block;\n",
       "  vertical-align: middle;\n",
       "  width: 1em;\n",
       "  height: 1.5em !important;\n",
       "  stroke-width: 0;\n",
       "  stroke: currentColor;\n",
       "  fill: currentColor;\n",
       "}\n",
       "</style><pre class='xr-text-repr-fallback'>&lt;xarray.DataArray &#x27;time&#x27; (time: 3075)&gt;\n",
       "array([&#x27;1991-05-01T00:00:00.000000000&#x27;, &#x27;1991-05-02T00:00:00.000000000&#x27;,\n",
       "       &#x27;1991-05-03T00:00:00.000000000&#x27;, ..., &#x27;2015-08-29T00:00:00.000000000&#x27;,\n",
       "       &#x27;2015-08-30T00:00:00.000000000&#x27;, &#x27;2015-08-31T00:00:00.000000000&#x27;],\n",
       "      dtype=&#x27;datetime64[ns]&#x27;)\n",
       "Coordinates:\n",
       "  * time     (time) datetime64[ns] 1991-05-01 1991-05-02 ... 2015-08-31\n",
       "Attributes:\n",
       "    long_name:  Time</pre><div class='xr-wrap' hidden><div class='xr-header'><div class='xr-obj-type'>xarray.DataArray</div><div class='xr-array-name'>'time'</div><ul class='xr-dim-list'><li><span class='xr-has-index'>time</span>: 3075</li></ul></div><ul class='xr-sections'><li class='xr-section-item'><div class='xr-array-wrap'><input id='section-064dd436-f4bf-4747-afc6-617481b4bc81' class='xr-array-in' type='checkbox' checked><label for='section-064dd436-f4bf-4747-afc6-617481b4bc81' title='Show/hide data repr'><svg class='icon xr-icon-database'><use xlink:href='#icon-database'></use></svg></label><div class='xr-array-preview xr-preview'><span>1991-05-01 1991-05-02 1991-05-03 ... 2015-08-29 2015-08-30 2015-08-31</span></div><div class='xr-array-data'><pre>array([&#x27;1991-05-01T00:00:00.000000000&#x27;, &#x27;1991-05-02T00:00:00.000000000&#x27;,\n",
       "       &#x27;1991-05-03T00:00:00.000000000&#x27;, ..., &#x27;2015-08-29T00:00:00.000000000&#x27;,\n",
       "       &#x27;2015-08-30T00:00:00.000000000&#x27;, &#x27;2015-08-31T00:00:00.000000000&#x27;],\n",
       "      dtype=&#x27;datetime64[ns]&#x27;)</pre></div></div></li><li class='xr-section-item'><input id='section-715e293b-2df1-4010-b95d-cc2873205bd8' class='xr-section-summary-in' type='checkbox'  checked><label for='section-715e293b-2df1-4010-b95d-cc2873205bd8' class='xr-section-summary' >Coordinates: <span>(1)</span></label><div class='xr-section-inline-details'></div><div class='xr-section-details'><ul class='xr-var-list'><li class='xr-var-item'><div class='xr-var-name'><span class='xr-has-index'>time</span></div><div class='xr-var-dims'>(time)</div><div class='xr-var-dtype'>datetime64[ns]</div><div class='xr-var-preview xr-preview'>1991-05-01 ... 2015-08-31</div><input id='attrs-404a3b39-a4d9-4ed2-a401-02e8fbcb3fbf' class='xr-var-attrs-in' type='checkbox' ><label for='attrs-404a3b39-a4d9-4ed2-a401-02e8fbcb3fbf' title='Show/Hide attributes'><svg class='icon xr-icon-file-text2'><use xlink:href='#icon-file-text2'></use></svg></label><input id='data-05e2a1b2-497b-4604-86a6-9959bcae0a73' class='xr-var-data-in' type='checkbox'><label for='data-05e2a1b2-497b-4604-86a6-9959bcae0a73' title='Show/Hide data repr'><svg class='icon xr-icon-database'><use xlink:href='#icon-database'></use></svg></label><div class='xr-var-attrs'><dl class='xr-attrs'><dt><span>long_name :</span></dt><dd>Time</dd></dl></div><div class='xr-var-data'><pre>array([&#x27;1991-05-01T00:00:00.000000000&#x27;, &#x27;1991-05-02T00:00:00.000000000&#x27;,\n",
       "       &#x27;1991-05-03T00:00:00.000000000&#x27;, ..., &#x27;2015-08-29T00:00:00.000000000&#x27;,\n",
       "       &#x27;2015-08-30T00:00:00.000000000&#x27;, &#x27;2015-08-31T00:00:00.000000000&#x27;],\n",
       "      dtype=&#x27;datetime64[ns]&#x27;)</pre></div></li></ul></div></li><li class='xr-section-item'><input id='section-7b0bab1c-d518-4ded-8f2d-b1bd285fc32e' class='xr-section-summary-in' type='checkbox'  checked><label for='section-7b0bab1c-d518-4ded-8f2d-b1bd285fc32e' class='xr-section-summary' >Attributes: <span>(1)</span></label><div class='xr-section-inline-details'></div><div class='xr-section-details'><dl class='xr-attrs'><dt><span>long_name :</span></dt><dd>Time</dd></dl></div></li></ul></div></div>"
      ],
      "text/plain": [
       "<xarray.DataArray 'time' (time: 3075)>\n",
       "array(['1991-05-01T00:00:00.000000000', '1991-05-02T00:00:00.000000000',\n",
       "       '1991-05-03T00:00:00.000000000', ..., '2015-08-29T00:00:00.000000000',\n",
       "       '2015-08-30T00:00:00.000000000', '2015-08-31T00:00:00.000000000'],\n",
       "      dtype='datetime64[ns]')\n",
       "Coordinates:\n",
       "  * time     (time) datetime64[ns] 1991-05-01 1991-05-02 ... 2015-08-31\n",
       "Attributes:\n",
       "    long_name:  Time"
      ]
     },
     "execution_count": 115,
     "metadata": {},
     "output_type": "execute_result"
    }
   ],
   "source": [
    "mppre.time"
   ]
  },
  {
   "cell_type": "code",
   "execution_count": 109,
   "metadata": {},
   "outputs": [
    {
     "data": {
      "text/plain": [
       "<matplotlib.contour.QuadContourSet at 0x2b219e23d8e0>"
      ]
     },
     "execution_count": 109,
     "metadata": {},
     "output_type": "execute_result"
    },
    {
     "data": {
      "image/png": "[encoded data removed]",
      "text/plain": [
       "<Figure size 432x288 with 2 Axes>"
      ]
     },
     "metadata": {
      "needs_background": "light"
     },
     "output_type": "display_data"
    }
   ],
   "source": [
    "(mppre.mean(dim = 'time')*24).plot.contourf(vmin = 0, vmax = 20, cmap = \"gist_ncar\")"
   ]
  },
  {
   "cell_type": "code",
   "execution_count": 139,
   "metadata": {},
   "outputs": [
    {
     "data": {
      "text/plain": [
       "<matplotlib.contour.QuadContourSet at 0x2b21a9210a30>"
      ]
     },
     "execution_count": 139,
     "metadata": {},
     "output_type": "execute_result"
    },
    {
     "data": {
      "image/png": "[encoded data removed]",
      "text/plain": [
       "<Figure size 432x288 with 2 Axes>"
      ]
     },
     "metadata": {
      "needs_background": "light"
     },
     "output_type": "display_data"
    }
   ],
   "source": [
    "temp_plot = conpre+mppre\n",
    "plot_data = temp_plot.sel(time = temp_plot.time.dt.month.isin([6,7,8])).mean(dim = 'time')\n",
    "(plot_data*24).plot.contourf(vmin = 0, vmax = 20, cmap = \"gist_ncar\")"
   ]
  },
  {
   "cell_type": "markdown",
   "metadata": {},
   "source": [
    "### 用每月数据代替"
   ]
  },
  {
   "cell_type": "code",
   "execution_count": 172,
   "metadata": {},
   "outputs": [],
   "source": [
    "monthy_conpre = xr.open_dataset(\"/raid61/LS4P-TPEMIP/JAMSTEC_WRF_1991-2015/monthy_2D/ncfile/1991/\\\n",
    "conpre_JAMSTECWRF_TPEMIP_mon_00z01051991-00z01081991.nc\",decode_times=False)\n",
    "monthy_mppre = xr.open_dataset(\"/raid61/LS4P-TPEMIP/JAMSTEC_WRF_1991-2015/monthy_2D/ncfile/1991/\\\n",
    "mppre_JAMSTECWRF_TPEMIP_mon_00z01051991-00z01081991.nc\",decode_times=False)\n",
    "\n",
    "temp_out = (24. * (monthy_conpre['conpre'] + monthy_mppre['mppre'] ) ) \n",
    "new_monthy_time = xr.DataArray( pd.date_range(\"1991-05-01\", periods = 4, freq = \"MS\"), dims = \"time\", name = \"time\")\n",
    "temp_out = temp_out.assign_coords( { \"time\" : new_monthy_time})\n",
    "path_out         = \"/raid61/LS4P-TPEMIP/TEMP_DATA/precip/\"\n",
    "temp_out = temp_out.rename(\"pr\")\n",
    "temp_out.to_netcdf(path_out + \"JAMSTECWRF_pre.nc\")"
   ]
  },
  {
   "cell_type": "markdown",
   "metadata": {},
   "source": [
    "## CWRF\n",
    "数据暂时只有平均态，找到了逐月的多年平均，但是是从1980-2016年，相比原本的时段更长"
   ]
  },
  {
   "cell_type": "code",
   "execution_count": 69,
   "metadata": {},
   "outputs": [],
   "source": [
    "# path_in = \"/raid61/LS4P-TPEMIP/TPEMIP-CWRF/Task1/daily/pr_LS4P_CWRF_Task1_day_00z01052003-21z30062003.nc\"\n",
    "# path_in = \"/raid61/LS4P-TPEMIP/TPEMIP-CWRF/Task2/\" + \"pr_LS4P_CWRF_Task2_jun_00z01011980-21z31122016.nc\"\n",
    "path_in = \"/raid61/LS4P-TPEMIP/TPEMIP-CWRF/Task2/\" + \"pr_LS4P_CWRF_Task2_mon_00z01011980-21z31122016.nc\"\n",
    "test  = xr.open_dataset(path_in)\n",
    "path_out         = \"/raid61/LS4P-TPEMIP/TEMP_DATA/precip/\"\n",
    "test['pr'].to_netcdf(path_out + \"CWRF_pre.nc\")"
   ]
  }
 ],
 "metadata": {
  "kernelspec": {
   "display_name": "proplot1006",
   "language": "python",
   "name": "proplot1006"
  },
  "language_info": {
   "codemirror_mode": {
    "name": "ipython",
    "version": 3
   },
   "file_extension": ".py",
   "mimetype": "text/x-python",
   "name": "python",
   "nbconvert_exporter": "python",
   "pygments_lexer": "ipython3",
   "version": "3.8.2"
  }
 },
 "nbformat": 4,
 "nbformat_minor": 4
}
