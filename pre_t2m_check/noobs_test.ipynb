{
 "cells": [
  {
   "cell_type": "markdown",
   "metadata": {},
   "source": [
    "# 插值尝试"
   ]
  },
  {
   "cell_type": "code",
   "execution_count": null,
   "metadata": {},
   "outputs": [],
   "source": [
    "from metpy.interpolate import interpolate_to_grid\n",
    "from metpy.interpolate import interpolate_to_points\n",
    "import cartopy.crs as ccrs"
   ]
  },
  {
   "cell_type": "code",
   "execution_count": null,
   "metadata": {},
   "outputs": [],
   "source": [
    "test = ds_sys['dailypre'][0,:,:]\n",
    "xlat = test.XLAT\n",
    "xlon = test.XLONG\n",
    "target_lat = ds_obs['pre'].lat\n",
    "target_lon = ds_obs['pre'].lon\n",
    "\n",
    "# to_proj = ccrs.AlbersEqualArea(central_longitude=100., central_latitude=37.5)\n",
    "to_proj = ccrs.Geodetic()\n",
    "# test_proj_newxy = to_proj.transform_points(ccrs.Geodetic(), xlon.values, xlat.values)\n",
    "# xp = test_proj_newxy[:, :, 0]\n",
    "# yp = test_proj_newxy[:, :, 1]\n",
    "xp = xlon.values\n",
    "yp = xlat.values\n",
    "# slpgridx, slpgridy, slp = \n",
    "interp_temp = interpolate_to_grid(xp.reshape(-1), yp.reshape(-1), test.values.reshape(-1), interp_type='linear', hres=1.)\n",
    "# boundary_coords =  {'west': 100., 'south': 21., 'east': 120., 'north': 41.} )\n",
    "\n",
    "# interpolate_to_grid(xlat.values, xlon.values, test[0,:,:].values)\n",
    "# interpolate_to_points( (xlat.values, xlon.values), test[0,:,:].values, (target_lat, target_lon) )\n",
    "# interpolate_to_points( np.array([1,2,3],[1,2,3]), np.array([2,4,6]), np.array([1,1.5,2])   )"
   ]
  },
  {
   "cell_type": "code",
   "execution_count": null,
   "metadata": {},
   "outputs": [],
   "source": [
    "interp_temp[0][0][1:] - interp_temp[0][0][:-1]\n",
    "interp_temp[2].shape\n",
    "# interp_temp[0][0]"
   ]
  },
  {
   "cell_type": "code",
   "execution_count": null,
   "metadata": {},
   "outputs": [],
   "source": [
    "import proplot as plot\n",
    "fig, axs = plot.subplots(ncols=1, nrows=1)\n",
    "axs.contourf(interp_temp[2])"
   ]
  },
  {
   "cell_type": "code",
   "execution_count": null,
   "metadata": {},
   "outputs": [],
   "source": [
    "def func(x, y):\n",
    "    return x*(1-x)*np.cos(4*np.pi*x) * np.sin(4*np.pi*y**2)**2\n",
    "\n",
    "grid_x, grid_y = np.mgrid[0:1:100j, 0:1:200j]\n",
    "points = np.random.rand(1000, 2)\n",
    "values = func(points[:,0], points[:,1])\n",
    "grid_out = interpolate_to_points(points, values, (grid_x, grid_y))"
   ]
  },
  {
   "cell_type": "code",
   "execution_count": null,
   "metadata": {},
   "outputs": [],
   "source": [
    "points = ( xlat.values.reshape(-1),xlon.values.reshape(-1) )\n",
    "values = test.values.reshape(-1)\n",
    "grid_onto = (target_lat.values, target_lon.values)\n",
    "interpolate_to_points(points, values, (50,100))"
   ]
  }
 ],
 "metadata": {
  "kernelspec": {
   "display_name": "proplot1006",
   "language": "python",
   "name": "proplot1006"
  },
  "language_info": {
   "codemirror_mode": {
    "name": "ipython",
    "version": 3
   },
   "file_extension": ".py",
   "mimetype": "text/x-python",
   "name": "python",
   "nbconvert_exporter": "python",
   "pygments_lexer": "ipython3",
   "version": "3.8.2"
  }
 },
 "nbformat": 4,
 "nbformat_minor": 4
}
